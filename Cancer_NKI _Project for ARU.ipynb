{
 "cells": [
  {
   "cell_type": "markdown",
   "id": "7cdf3a2a",
   "metadata": {},
   "source": [
    "## Step 1: Import the initial libraries"
   ]
  },
  {
   "cell_type": "code",
   "execution_count": 1,
   "id": "26a6f490",
   "metadata": {},
   "outputs": [],
   "source": [
    "# Suppressing Warnings\n",
    "import warnings\n",
    "warnings.filterwarnings('ignore')"
   ]
  },
  {
   "cell_type": "code",
   "execution_count": 2,
   "id": "a33fa777",
   "metadata": {},
   "outputs": [],
   "source": [
    "import numpy as np\n",
    "import pandas as pd\n",
    "import matplotlib.pyplot as plt\n",
    "import seaborn as sns"
   ]
  },
  {
   "cell_type": "markdown",
   "id": "4df46641",
   "metadata": {},
   "source": [
    "## Step 2: Read the Data"
   ]
  },
  {
   "cell_type": "code",
   "execution_count": 3,
   "id": "078939df",
   "metadata": {},
   "outputs": [
    {
     "data": {
      "text/html": [
       "<div>\n",
       "<style scoped>\n",
       "    .dataframe tbody tr th:only-of-type {\n",
       "        vertical-align: middle;\n",
       "    }\n",
       "\n",
       "    .dataframe tbody tr th {\n",
       "        vertical-align: top;\n",
       "    }\n",
       "\n",
       "    .dataframe thead th {\n",
       "        text-align: right;\n",
       "    }\n",
       "</style>\n",
       "<table border=\"1\" class=\"dataframe\">\n",
       "  <thead>\n",
       "    <tr style=\"text-align: right;\">\n",
       "      <th></th>\n",
       "      <th>Patient</th>\n",
       "      <th>age</th>\n",
       "      <th>eventdeath</th>\n",
       "      <th>survival</th>\n",
       "      <th>timerecurrence</th>\n",
       "      <th>chemo</th>\n",
       "      <th>hormonal</th>\n",
       "      <th>amputation</th>\n",
       "      <th>histtype</th>\n",
       "      <th>diam</th>\n",
       "      <th>...</th>\n",
       "      <th>Contig36312_RC</th>\n",
       "      <th>Contig38980_RC</th>\n",
       "      <th>NM_000853</th>\n",
       "      <th>NM_000854</th>\n",
       "      <th>NM_000860</th>\n",
       "      <th>Contig29014_RC</th>\n",
       "      <th>Contig46616_RC</th>\n",
       "      <th>NM_000888</th>\n",
       "      <th>NM_000898</th>\n",
       "      <th>AF067420</th>\n",
       "    </tr>\n",
       "    <tr>\n",
       "      <th>ID</th>\n",
       "      <th></th>\n",
       "      <th></th>\n",
       "      <th></th>\n",
       "      <th></th>\n",
       "      <th></th>\n",
       "      <th></th>\n",
       "      <th></th>\n",
       "      <th></th>\n",
       "      <th></th>\n",
       "      <th></th>\n",
       "      <th></th>\n",
       "      <th></th>\n",
       "      <th></th>\n",
       "      <th></th>\n",
       "      <th></th>\n",
       "      <th></th>\n",
       "      <th></th>\n",
       "      <th></th>\n",
       "      <th></th>\n",
       "      <th></th>\n",
       "      <th></th>\n",
       "    </tr>\n",
       "  </thead>\n",
       "  <tbody>\n",
       "    <tr>\n",
       "      <th>18</th>\n",
       "      <td>s122</td>\n",
       "      <td>43</td>\n",
       "      <td>0</td>\n",
       "      <td>14.817248</td>\n",
       "      <td>14.817248</td>\n",
       "      <td>0</td>\n",
       "      <td>0</td>\n",
       "      <td>1</td>\n",
       "      <td>1</td>\n",
       "      <td>25</td>\n",
       "      <td>...</td>\n",
       "      <td>0.591103</td>\n",
       "      <td>-0.355018</td>\n",
       "      <td>0.373644</td>\n",
       "      <td>-0.760690</td>\n",
       "      <td>-0.164025</td>\n",
       "      <td>-0.038726</td>\n",
       "      <td>0.237856</td>\n",
       "      <td>-0.087631</td>\n",
       "      <td>-0.369153</td>\n",
       "      <td>0.153795</td>\n",
       "    </tr>\n",
       "    <tr>\n",
       "      <th>19</th>\n",
       "      <td>s123</td>\n",
       "      <td>48</td>\n",
       "      <td>0</td>\n",
       "      <td>14.261465</td>\n",
       "      <td>14.261465</td>\n",
       "      <td>0</td>\n",
       "      <td>0</td>\n",
       "      <td>0</td>\n",
       "      <td>1</td>\n",
       "      <td>20</td>\n",
       "      <td>...</td>\n",
       "      <td>-0.199829</td>\n",
       "      <td>-0.001635</td>\n",
       "      <td>-0.062922</td>\n",
       "      <td>-0.682204</td>\n",
       "      <td>-0.220934</td>\n",
       "      <td>-0.100088</td>\n",
       "      <td>-0.466537</td>\n",
       "      <td>-0.231547</td>\n",
       "      <td>-0.643019</td>\n",
       "      <td>-0.014098</td>\n",
       "    </tr>\n",
       "    <tr>\n",
       "      <th>20</th>\n",
       "      <td>s124</td>\n",
       "      <td>38</td>\n",
       "      <td>0</td>\n",
       "      <td>6.644764</td>\n",
       "      <td>6.644764</td>\n",
       "      <td>0</td>\n",
       "      <td>0</td>\n",
       "      <td>0</td>\n",
       "      <td>1</td>\n",
       "      <td>15</td>\n",
       "      <td>...</td>\n",
       "      <td>0.328736</td>\n",
       "      <td>-0.047571</td>\n",
       "      <td>0.084228</td>\n",
       "      <td>-0.695950</td>\n",
       "      <td>-0.402840</td>\n",
       "      <td>-0.099965</td>\n",
       "      <td>0.110155</td>\n",
       "      <td>-0.114298</td>\n",
       "      <td>0.258495</td>\n",
       "      <td>-0.198911</td>\n",
       "    </tr>\n",
       "    <tr>\n",
       "      <th>21</th>\n",
       "      <td>s125</td>\n",
       "      <td>50</td>\n",
       "      <td>0</td>\n",
       "      <td>7.748118</td>\n",
       "      <td>7.748118</td>\n",
       "      <td>0</td>\n",
       "      <td>1</td>\n",
       "      <td>0</td>\n",
       "      <td>1</td>\n",
       "      <td>15</td>\n",
       "      <td>...</td>\n",
       "      <td>0.648861</td>\n",
       "      <td>-0.039088</td>\n",
       "      <td>0.182182</td>\n",
       "      <td>-0.524640</td>\n",
       "      <td>0.037320</td>\n",
       "      <td>-0.167688</td>\n",
       "      <td>-0.016790</td>\n",
       "      <td>-0.285344</td>\n",
       "      <td>-0.251188</td>\n",
       "      <td>0.862710</td>\n",
       "    </tr>\n",
       "    <tr>\n",
       "      <th>22</th>\n",
       "      <td>s126</td>\n",
       "      <td>38</td>\n",
       "      <td>0</td>\n",
       "      <td>6.436687</td>\n",
       "      <td>6.318960</td>\n",
       "      <td>0</td>\n",
       "      <td>0</td>\n",
       "      <td>1</td>\n",
       "      <td>1</td>\n",
       "      <td>15</td>\n",
       "      <td>...</td>\n",
       "      <td>-0.287538</td>\n",
       "      <td>-0.286893</td>\n",
       "      <td>0.057082</td>\n",
       "      <td>-0.565021</td>\n",
       "      <td>-0.105632</td>\n",
       "      <td>-0.108148</td>\n",
       "      <td>-0.405853</td>\n",
       "      <td>-0.053601</td>\n",
       "      <td>-0.677072</td>\n",
       "      <td>0.134160</td>\n",
       "    </tr>\n",
       "  </tbody>\n",
       "</table>\n",
       "<p>5 rows × 1569 columns</p>\n",
       "</div>"
      ],
      "text/plain": [
       "   Patient  age  eventdeath   survival  timerecurrence  chemo  hormonal  \\\n",
       "ID                                                                        \n",
       "18    s122   43           0  14.817248       14.817248      0         0   \n",
       "19    s123   48           0  14.261465       14.261465      0         0   \n",
       "20    s124   38           0   6.644764        6.644764      0         0   \n",
       "21    s125   50           0   7.748118        7.748118      0         1   \n",
       "22    s126   38           0   6.436687        6.318960      0         0   \n",
       "\n",
       "    amputation  histtype  diam  ...  Contig36312_RC  Contig38980_RC  \\\n",
       "ID                              ...                                   \n",
       "18           1         1    25  ...        0.591103       -0.355018   \n",
       "19           0         1    20  ...       -0.199829       -0.001635   \n",
       "20           0         1    15  ...        0.328736       -0.047571   \n",
       "21           0         1    15  ...        0.648861       -0.039088   \n",
       "22           1         1    15  ...       -0.287538       -0.286893   \n",
       "\n",
       "    NM_000853  NM_000854  NM_000860  Contig29014_RC  Contig46616_RC  \\\n",
       "ID                                                                    \n",
       "18   0.373644  -0.760690  -0.164025       -0.038726        0.237856   \n",
       "19  -0.062922  -0.682204  -0.220934       -0.100088       -0.466537   \n",
       "20   0.084228  -0.695950  -0.402840       -0.099965        0.110155   \n",
       "21   0.182182  -0.524640   0.037320       -0.167688       -0.016790   \n",
       "22   0.057082  -0.565021  -0.105632       -0.108148       -0.405853   \n",
       "\n",
       "    NM_000888  NM_000898  AF067420  \n",
       "ID                                  \n",
       "18  -0.087631  -0.369153  0.153795  \n",
       "19  -0.231547  -0.643019 -0.014098  \n",
       "20  -0.114298   0.258495 -0.198911  \n",
       "21  -0.285344  -0.251188  0.862710  \n",
       "22  -0.053601  -0.677072  0.134160  \n",
       "\n",
       "[5 rows x 1569 columns]"
      ]
     },
     "execution_count": 3,
     "metadata": {},
     "output_type": "execute_result"
    }
   ],
   "source": [
    "data= pd.read_csv(\"NKI_cleaned.csv\",index_col=1)\n",
    "data.head()"
   ]
  },
  {
   "cell_type": "code",
   "execution_count": 4,
   "id": "9a536f1b",
   "metadata": {},
   "outputs": [
    {
     "data": {
      "text/html": [
       "<div>\n",
       "<style scoped>\n",
       "    .dataframe tbody tr th:only-of-type {\n",
       "        vertical-align: middle;\n",
       "    }\n",
       "\n",
       "    .dataframe tbody tr th {\n",
       "        vertical-align: top;\n",
       "    }\n",
       "\n",
       "    .dataframe thead th {\n",
       "        text-align: right;\n",
       "    }\n",
       "</style>\n",
       "<table border=\"1\" class=\"dataframe\">\n",
       "  <thead>\n",
       "    <tr style=\"text-align: right;\">\n",
       "      <th></th>\n",
       "      <th>age</th>\n",
       "      <th>eventdeath</th>\n",
       "      <th>survival</th>\n",
       "      <th>timerecurrence</th>\n",
       "      <th>chemo</th>\n",
       "      <th>hormonal</th>\n",
       "      <th>amputation</th>\n",
       "      <th>histtype</th>\n",
       "      <th>diam</th>\n",
       "      <th>posnodes</th>\n",
       "      <th>...</th>\n",
       "      <th>Contig36312_RC</th>\n",
       "      <th>Contig38980_RC</th>\n",
       "      <th>NM_000853</th>\n",
       "      <th>NM_000854</th>\n",
       "      <th>NM_000860</th>\n",
       "      <th>Contig29014_RC</th>\n",
       "      <th>Contig46616_RC</th>\n",
       "      <th>NM_000888</th>\n",
       "      <th>NM_000898</th>\n",
       "      <th>AF067420</th>\n",
       "    </tr>\n",
       "    <tr>\n",
       "      <th>ID</th>\n",
       "      <th></th>\n",
       "      <th></th>\n",
       "      <th></th>\n",
       "      <th></th>\n",
       "      <th></th>\n",
       "      <th></th>\n",
       "      <th></th>\n",
       "      <th></th>\n",
       "      <th></th>\n",
       "      <th></th>\n",
       "      <th></th>\n",
       "      <th></th>\n",
       "      <th></th>\n",
       "      <th></th>\n",
       "      <th></th>\n",
       "      <th></th>\n",
       "      <th></th>\n",
       "      <th></th>\n",
       "      <th></th>\n",
       "      <th></th>\n",
       "      <th></th>\n",
       "    </tr>\n",
       "  </thead>\n",
       "  <tbody>\n",
       "    <tr>\n",
       "      <th>18</th>\n",
       "      <td>43</td>\n",
       "      <td>0</td>\n",
       "      <td>14.817248</td>\n",
       "      <td>14.817248</td>\n",
       "      <td>0</td>\n",
       "      <td>0</td>\n",
       "      <td>1</td>\n",
       "      <td>1</td>\n",
       "      <td>25</td>\n",
       "      <td>0</td>\n",
       "      <td>...</td>\n",
       "      <td>0.591103</td>\n",
       "      <td>-0.355018</td>\n",
       "      <td>0.373644</td>\n",
       "      <td>-0.760690</td>\n",
       "      <td>-0.164025</td>\n",
       "      <td>-0.038726</td>\n",
       "      <td>0.237856</td>\n",
       "      <td>-0.087631</td>\n",
       "      <td>-0.369153</td>\n",
       "      <td>0.153795</td>\n",
       "    </tr>\n",
       "    <tr>\n",
       "      <th>19</th>\n",
       "      <td>48</td>\n",
       "      <td>0</td>\n",
       "      <td>14.261465</td>\n",
       "      <td>14.261465</td>\n",
       "      <td>0</td>\n",
       "      <td>0</td>\n",
       "      <td>0</td>\n",
       "      <td>1</td>\n",
       "      <td>20</td>\n",
       "      <td>0</td>\n",
       "      <td>...</td>\n",
       "      <td>-0.199829</td>\n",
       "      <td>-0.001635</td>\n",
       "      <td>-0.062922</td>\n",
       "      <td>-0.682204</td>\n",
       "      <td>-0.220934</td>\n",
       "      <td>-0.100088</td>\n",
       "      <td>-0.466537</td>\n",
       "      <td>-0.231547</td>\n",
       "      <td>-0.643019</td>\n",
       "      <td>-0.014098</td>\n",
       "    </tr>\n",
       "    <tr>\n",
       "      <th>20</th>\n",
       "      <td>38</td>\n",
       "      <td>0</td>\n",
       "      <td>6.644764</td>\n",
       "      <td>6.644764</td>\n",
       "      <td>0</td>\n",
       "      <td>0</td>\n",
       "      <td>0</td>\n",
       "      <td>1</td>\n",
       "      <td>15</td>\n",
       "      <td>0</td>\n",
       "      <td>...</td>\n",
       "      <td>0.328736</td>\n",
       "      <td>-0.047571</td>\n",
       "      <td>0.084228</td>\n",
       "      <td>-0.695950</td>\n",
       "      <td>-0.402840</td>\n",
       "      <td>-0.099965</td>\n",
       "      <td>0.110155</td>\n",
       "      <td>-0.114298</td>\n",
       "      <td>0.258495</td>\n",
       "      <td>-0.198911</td>\n",
       "    </tr>\n",
       "    <tr>\n",
       "      <th>21</th>\n",
       "      <td>50</td>\n",
       "      <td>0</td>\n",
       "      <td>7.748118</td>\n",
       "      <td>7.748118</td>\n",
       "      <td>0</td>\n",
       "      <td>1</td>\n",
       "      <td>0</td>\n",
       "      <td>1</td>\n",
       "      <td>15</td>\n",
       "      <td>1</td>\n",
       "      <td>...</td>\n",
       "      <td>0.648861</td>\n",
       "      <td>-0.039088</td>\n",
       "      <td>0.182182</td>\n",
       "      <td>-0.524640</td>\n",
       "      <td>0.037320</td>\n",
       "      <td>-0.167688</td>\n",
       "      <td>-0.016790</td>\n",
       "      <td>-0.285344</td>\n",
       "      <td>-0.251188</td>\n",
       "      <td>0.862710</td>\n",
       "    </tr>\n",
       "    <tr>\n",
       "      <th>22</th>\n",
       "      <td>38</td>\n",
       "      <td>0</td>\n",
       "      <td>6.436687</td>\n",
       "      <td>6.318960</td>\n",
       "      <td>0</td>\n",
       "      <td>0</td>\n",
       "      <td>1</td>\n",
       "      <td>1</td>\n",
       "      <td>15</td>\n",
       "      <td>0</td>\n",
       "      <td>...</td>\n",
       "      <td>-0.287538</td>\n",
       "      <td>-0.286893</td>\n",
       "      <td>0.057082</td>\n",
       "      <td>-0.565021</td>\n",
       "      <td>-0.105632</td>\n",
       "      <td>-0.108148</td>\n",
       "      <td>-0.405853</td>\n",
       "      <td>-0.053601</td>\n",
       "      <td>-0.677072</td>\n",
       "      <td>0.134160</td>\n",
       "    </tr>\n",
       "  </tbody>\n",
       "</table>\n",
       "<p>5 rows × 1568 columns</p>\n",
       "</div>"
      ],
      "text/plain": [
       "    age  eventdeath   survival  timerecurrence  chemo  hormonal  amputation  \\\n",
       "ID                                                                            \n",
       "18   43           0  14.817248       14.817248      0         0           1   \n",
       "19   48           0  14.261465       14.261465      0         0           0   \n",
       "20   38           0   6.644764        6.644764      0         0           0   \n",
       "21   50           0   7.748118        7.748118      0         1           0   \n",
       "22   38           0   6.436687        6.318960      0         0           1   \n",
       "\n",
       "    histtype  diam  posnodes  ...  Contig36312_RC  Contig38980_RC  NM_000853  \\\n",
       "ID                            ...                                              \n",
       "18         1    25         0  ...        0.591103       -0.355018   0.373644   \n",
       "19         1    20         0  ...       -0.199829       -0.001635  -0.062922   \n",
       "20         1    15         0  ...        0.328736       -0.047571   0.084228   \n",
       "21         1    15         1  ...        0.648861       -0.039088   0.182182   \n",
       "22         1    15         0  ...       -0.287538       -0.286893   0.057082   \n",
       "\n",
       "    NM_000854  NM_000860  Contig29014_RC  Contig46616_RC  NM_000888  \\\n",
       "ID                                                                    \n",
       "18  -0.760690  -0.164025       -0.038726        0.237856  -0.087631   \n",
       "19  -0.682204  -0.220934       -0.100088       -0.466537  -0.231547   \n",
       "20  -0.695950  -0.402840       -0.099965        0.110155  -0.114298   \n",
       "21  -0.524640   0.037320       -0.167688       -0.016790  -0.285344   \n",
       "22  -0.565021  -0.105632       -0.108148       -0.405853  -0.053601   \n",
       "\n",
       "    NM_000898  AF067420  \n",
       "ID                       \n",
       "18  -0.369153  0.153795  \n",
       "19  -0.643019 -0.014098  \n",
       "20   0.258495 -0.198911  \n",
       "21  -0.251188  0.862710  \n",
       "22  -0.677072  0.134160  \n",
       "\n",
       "[5 rows x 1568 columns]"
      ]
     },
     "execution_count": 4,
     "metadata": {},
     "output_type": "execute_result"
    }
   ],
   "source": [
    "data.drop(columns=[\"Patient\"],inplace=True,axis=1)\n",
    "data.head()"
   ]
  },
  {
   "cell_type": "code",
   "execution_count": 5,
   "id": "900dfd76",
   "metadata": {},
   "outputs": [
    {
     "data": {
      "text/html": [
       "<div>\n",
       "<style scoped>\n",
       "    .dataframe tbody tr th:only-of-type {\n",
       "        vertical-align: middle;\n",
       "    }\n",
       "\n",
       "    .dataframe tbody tr th {\n",
       "        vertical-align: top;\n",
       "    }\n",
       "\n",
       "    .dataframe thead th {\n",
       "        text-align: right;\n",
       "    }\n",
       "</style>\n",
       "<table border=\"1\" class=\"dataframe\">\n",
       "  <thead>\n",
       "    <tr style=\"text-align: right;\">\n",
       "      <th></th>\n",
       "      <th>age</th>\n",
       "      <th>eventdeath</th>\n",
       "      <th>survival</th>\n",
       "      <th>timerecurrence</th>\n",
       "      <th>chemo</th>\n",
       "      <th>hormonal</th>\n",
       "      <th>amputation</th>\n",
       "      <th>histtype</th>\n",
       "      <th>diam</th>\n",
       "      <th>posnodes</th>\n",
       "      <th>...</th>\n",
       "      <th>Contig36312_RC</th>\n",
       "      <th>Contig38980_RC</th>\n",
       "      <th>NM_000853</th>\n",
       "      <th>NM_000854</th>\n",
       "      <th>NM_000860</th>\n",
       "      <th>Contig29014_RC</th>\n",
       "      <th>Contig46616_RC</th>\n",
       "      <th>NM_000888</th>\n",
       "      <th>NM_000898</th>\n",
       "      <th>AF067420</th>\n",
       "    </tr>\n",
       "  </thead>\n",
       "  <tbody>\n",
       "    <tr>\n",
       "      <th>count</th>\n",
       "      <td>272.000000</td>\n",
       "      <td>272.000000</td>\n",
       "      <td>272.000000</td>\n",
       "      <td>272.000000</td>\n",
       "      <td>272.000000</td>\n",
       "      <td>272.000000</td>\n",
       "      <td>272.000000</td>\n",
       "      <td>272.000000</td>\n",
       "      <td>272.000000</td>\n",
       "      <td>272.000000</td>\n",
       "      <td>...</td>\n",
       "      <td>272.000000</td>\n",
       "      <td>272.000000</td>\n",
       "      <td>272.000000</td>\n",
       "      <td>272.000000</td>\n",
       "      <td>272.000000</td>\n",
       "      <td>272.000000</td>\n",
       "      <td>272.000000</td>\n",
       "      <td>272.000000</td>\n",
       "      <td>272.000000</td>\n",
       "      <td>272.000000</td>\n",
       "    </tr>\n",
       "    <tr>\n",
       "      <th>mean</th>\n",
       "      <td>44.047794</td>\n",
       "      <td>0.283088</td>\n",
       "      <td>8.080609</td>\n",
       "      <td>7.250433</td>\n",
       "      <td>0.393382</td>\n",
       "      <td>0.132353</td>\n",
       "      <td>0.441176</td>\n",
       "      <td>1.110294</td>\n",
       "      <td>22.529412</td>\n",
       "      <td>1.341912</td>\n",
       "      <td>...</td>\n",
       "      <td>-0.137075</td>\n",
       "      <td>-0.049257</td>\n",
       "      <td>-0.109779</td>\n",
       "      <td>-0.222577</td>\n",
       "      <td>-0.116336</td>\n",
       "      <td>-0.015141</td>\n",
       "      <td>-0.057222</td>\n",
       "      <td>-0.038441</td>\n",
       "      <td>-0.240416</td>\n",
       "      <td>-0.252884</td>\n",
       "    </tr>\n",
       "    <tr>\n",
       "      <th>std</th>\n",
       "      <td>5.464538</td>\n",
       "      <td>0.451329</td>\n",
       "      <td>3.904874</td>\n",
       "      <td>4.177462</td>\n",
       "      <td>0.489401</td>\n",
       "      <td>0.339499</td>\n",
       "      <td>0.497443</td>\n",
       "      <td>0.545668</td>\n",
       "      <td>8.703345</td>\n",
       "      <td>2.108848</td>\n",
       "      <td>...</td>\n",
       "      <td>0.414608</td>\n",
       "      <td>0.248084</td>\n",
       "      <td>0.434717</td>\n",
       "      <td>0.421388</td>\n",
       "      <td>0.274243</td>\n",
       "      <td>0.323474</td>\n",
       "      <td>0.297915</td>\n",
       "      <td>0.246020</td>\n",
       "      <td>0.482092</td>\n",
       "      <td>0.472775</td>\n",
       "    </tr>\n",
       "    <tr>\n",
       "      <th>min</th>\n",
       "      <td>26.000000</td>\n",
       "      <td>0.000000</td>\n",
       "      <td>0.711841</td>\n",
       "      <td>0.271047</td>\n",
       "      <td>0.000000</td>\n",
       "      <td>0.000000</td>\n",
       "      <td>0.000000</td>\n",
       "      <td>1.000000</td>\n",
       "      <td>2.000000</td>\n",
       "      <td>0.000000</td>\n",
       "      <td>...</td>\n",
       "      <td>-1.071389</td>\n",
       "      <td>-0.641482</td>\n",
       "      <td>-1.363426</td>\n",
       "      <td>-1.252298</td>\n",
       "      <td>-0.841332</td>\n",
       "      <td>-2.000000</td>\n",
       "      <td>-0.871728</td>\n",
       "      <td>-0.593263</td>\n",
       "      <td>-1.679470</td>\n",
       "      <td>-2.000000</td>\n",
       "    </tr>\n",
       "    <tr>\n",
       "      <th>25%</th>\n",
       "      <td>40.750000</td>\n",
       "      <td>0.000000</td>\n",
       "      <td>5.499738</td>\n",
       "      <td>4.389460</td>\n",
       "      <td>0.000000</td>\n",
       "      <td>0.000000</td>\n",
       "      <td>0.000000</td>\n",
       "      <td>1.000000</td>\n",
       "      <td>15.000000</td>\n",
       "      <td>0.000000</td>\n",
       "      <td>...</td>\n",
       "      <td>-0.462427</td>\n",
       "      <td>-0.219615</td>\n",
       "      <td>-0.247377</td>\n",
       "      <td>-0.567609</td>\n",
       "      <td>-0.271186</td>\n",
       "      <td>-0.099996</td>\n",
       "      <td>-0.253693</td>\n",
       "      <td>-0.185253</td>\n",
       "      <td>-0.579311</td>\n",
       "      <td>-0.554709</td>\n",
       "    </tr>\n",
       "    <tr>\n",
       "      <th>50%</th>\n",
       "      <td>45.000000</td>\n",
       "      <td>0.000000</td>\n",
       "      <td>7.359343</td>\n",
       "      <td>6.950034</td>\n",
       "      <td>0.000000</td>\n",
       "      <td>0.000000</td>\n",
       "      <td>0.000000</td>\n",
       "      <td>1.000000</td>\n",
       "      <td>20.000000</td>\n",
       "      <td>0.000000</td>\n",
       "      <td>...</td>\n",
       "      <td>-0.098875</td>\n",
       "      <td>-0.055215</td>\n",
       "      <td>0.008589</td>\n",
       "      <td>-0.223481</td>\n",
       "      <td>-0.137765</td>\n",
       "      <td>-0.002994</td>\n",
       "      <td>-0.052311</td>\n",
       "      <td>-0.071930</td>\n",
       "      <td>-0.213540</td>\n",
       "      <td>-0.254435</td>\n",
       "    </tr>\n",
       "    <tr>\n",
       "      <th>75%</th>\n",
       "      <td>49.000000</td>\n",
       "      <td>1.000000</td>\n",
       "      <td>10.512662</td>\n",
       "      <td>9.986311</td>\n",
       "      <td>1.000000</td>\n",
       "      <td>0.000000</td>\n",
       "      <td>1.000000</td>\n",
       "      <td>1.000000</td>\n",
       "      <td>29.250000</td>\n",
       "      <td>2.000000</td>\n",
       "      <td>...</td>\n",
       "      <td>0.147836</td>\n",
       "      <td>0.119754</td>\n",
       "      <td>0.162106</td>\n",
       "      <td>0.072289</td>\n",
       "      <td>-0.022088</td>\n",
       "      <td>0.074571</td>\n",
       "      <td>0.166774</td>\n",
       "      <td>0.100221</td>\n",
       "      <td>0.116691</td>\n",
       "      <td>0.051704</td>\n",
       "    </tr>\n",
       "    <tr>\n",
       "      <th>max</th>\n",
       "      <td>53.000000</td>\n",
       "      <td>1.000000</td>\n",
       "      <td>18.340862</td>\n",
       "      <td>18.340862</td>\n",
       "      <td>1.000000</td>\n",
       "      <td>1.000000</td>\n",
       "      <td>1.000000</td>\n",
       "      <td>7.000000</td>\n",
       "      <td>50.000000</td>\n",
       "      <td>13.000000</td>\n",
       "      <td>...</td>\n",
       "      <td>0.739614</td>\n",
       "      <td>0.635155</td>\n",
       "      <td>1.009289</td>\n",
       "      <td>1.324539</td>\n",
       "      <td>1.173276</td>\n",
       "      <td>2.000000</td>\n",
       "      <td>0.591880</td>\n",
       "      <td>0.993960</td>\n",
       "      <td>1.298576</td>\n",
       "      <td>0.988492</td>\n",
       "    </tr>\n",
       "  </tbody>\n",
       "</table>\n",
       "<p>8 rows × 1568 columns</p>\n",
       "</div>"
      ],
      "text/plain": [
       "              age  eventdeath    survival  timerecurrence       chemo  \\\n",
       "count  272.000000  272.000000  272.000000      272.000000  272.000000   \n",
       "mean    44.047794    0.283088    8.080609        7.250433    0.393382   \n",
       "std      5.464538    0.451329    3.904874        4.177462    0.489401   \n",
       "min     26.000000    0.000000    0.711841        0.271047    0.000000   \n",
       "25%     40.750000    0.000000    5.499738        4.389460    0.000000   \n",
       "50%     45.000000    0.000000    7.359343        6.950034    0.000000   \n",
       "75%     49.000000    1.000000   10.512662        9.986311    1.000000   \n",
       "max     53.000000    1.000000   18.340862       18.340862    1.000000   \n",
       "\n",
       "         hormonal  amputation    histtype        diam    posnodes  ...  \\\n",
       "count  272.000000  272.000000  272.000000  272.000000  272.000000  ...   \n",
       "mean     0.132353    0.441176    1.110294   22.529412    1.341912  ...   \n",
       "std      0.339499    0.497443    0.545668    8.703345    2.108848  ...   \n",
       "min      0.000000    0.000000    1.000000    2.000000    0.000000  ...   \n",
       "25%      0.000000    0.000000    1.000000   15.000000    0.000000  ...   \n",
       "50%      0.000000    0.000000    1.000000   20.000000    0.000000  ...   \n",
       "75%      0.000000    1.000000    1.000000   29.250000    2.000000  ...   \n",
       "max      1.000000    1.000000    7.000000   50.000000   13.000000  ...   \n",
       "\n",
       "       Contig36312_RC  Contig38980_RC   NM_000853   NM_000854   NM_000860  \\\n",
       "count      272.000000      272.000000  272.000000  272.000000  272.000000   \n",
       "mean        -0.137075       -0.049257   -0.109779   -0.222577   -0.116336   \n",
       "std          0.414608        0.248084    0.434717    0.421388    0.274243   \n",
       "min         -1.071389       -0.641482   -1.363426   -1.252298   -0.841332   \n",
       "25%         -0.462427       -0.219615   -0.247377   -0.567609   -0.271186   \n",
       "50%         -0.098875       -0.055215    0.008589   -0.223481   -0.137765   \n",
       "75%          0.147836        0.119754    0.162106    0.072289   -0.022088   \n",
       "max          0.739614        0.635155    1.009289    1.324539    1.173276   \n",
       "\n",
       "       Contig29014_RC  Contig46616_RC   NM_000888   NM_000898    AF067420  \n",
       "count      272.000000      272.000000  272.000000  272.000000  272.000000  \n",
       "mean        -0.015141       -0.057222   -0.038441   -0.240416   -0.252884  \n",
       "std          0.323474        0.297915    0.246020    0.482092    0.472775  \n",
       "min         -2.000000       -0.871728   -0.593263   -1.679470   -2.000000  \n",
       "25%         -0.099996       -0.253693   -0.185253   -0.579311   -0.554709  \n",
       "50%         -0.002994       -0.052311   -0.071930   -0.213540   -0.254435  \n",
       "75%          0.074571        0.166774    0.100221    0.116691    0.051704  \n",
       "max          2.000000        0.591880    0.993960    1.298576    0.988492  \n",
       "\n",
       "[8 rows x 1568 columns]"
      ]
     },
     "execution_count": 5,
     "metadata": {},
     "output_type": "execute_result"
    }
   ],
   "source": [
    "data.describe()"
   ]
  },
  {
   "cell_type": "markdown",
   "id": "073ffbfc",
   "metadata": {},
   "source": [
    "## Step 3: Remove the uninterpretable Columns\n",
    "\n",
    "The reason we remove it is because if we dont do it we will get an error called \n",
    "#### PerfectSeparationError: Perfect separation detected, results not available\n",
    "    \n",
    "This happens when all or nearly all of the values in one of the predictor categories \n",
    "(or a combination of predictors) are associated with only one of the binary outcome values. \n",
    "When this happens a solution cannot be found for the predictor coefficient."
   ]
  },
  {
   "cell_type": "code",
   "execution_count": 6,
   "id": "9fa88975",
   "metadata": {},
   "outputs": [
    {
     "data": {
      "text/html": [
       "<div>\n",
       "<style scoped>\n",
       "    .dataframe tbody tr th:only-of-type {\n",
       "        vertical-align: middle;\n",
       "    }\n",
       "\n",
       "    .dataframe tbody tr th {\n",
       "        vertical-align: top;\n",
       "    }\n",
       "\n",
       "    .dataframe thead th {\n",
       "        text-align: right;\n",
       "    }\n",
       "</style>\n",
       "<table border=\"1\" class=\"dataframe\">\n",
       "  <thead>\n",
       "    <tr style=\"text-align: right;\">\n",
       "      <th></th>\n",
       "      <th>age</th>\n",
       "      <th>eventdeath</th>\n",
       "      <th>survival</th>\n",
       "      <th>timerecurrence</th>\n",
       "      <th>chemo</th>\n",
       "      <th>hormonal</th>\n",
       "      <th>amputation</th>\n",
       "      <th>histtype</th>\n",
       "      <th>diam</th>\n",
       "      <th>posnodes</th>\n",
       "      <th>grade</th>\n",
       "      <th>angioinv</th>\n",
       "      <th>lymphinfil</th>\n",
       "      <th>barcode</th>\n",
       "    </tr>\n",
       "    <tr>\n",
       "      <th>ID</th>\n",
       "      <th></th>\n",
       "      <th></th>\n",
       "      <th></th>\n",
       "      <th></th>\n",
       "      <th></th>\n",
       "      <th></th>\n",
       "      <th></th>\n",
       "      <th></th>\n",
       "      <th></th>\n",
       "      <th></th>\n",
       "      <th></th>\n",
       "      <th></th>\n",
       "      <th></th>\n",
       "      <th></th>\n",
       "    </tr>\n",
       "  </thead>\n",
       "  <tbody>\n",
       "    <tr>\n",
       "      <th>18</th>\n",
       "      <td>43</td>\n",
       "      <td>0</td>\n",
       "      <td>14.817248</td>\n",
       "      <td>14.817248</td>\n",
       "      <td>0</td>\n",
       "      <td>0</td>\n",
       "      <td>1</td>\n",
       "      <td>1</td>\n",
       "      <td>25</td>\n",
       "      <td>0</td>\n",
       "      <td>2</td>\n",
       "      <td>3</td>\n",
       "      <td>1</td>\n",
       "      <td>6274</td>\n",
       "    </tr>\n",
       "    <tr>\n",
       "      <th>19</th>\n",
       "      <td>48</td>\n",
       "      <td>0</td>\n",
       "      <td>14.261465</td>\n",
       "      <td>14.261465</td>\n",
       "      <td>0</td>\n",
       "      <td>0</td>\n",
       "      <td>0</td>\n",
       "      <td>1</td>\n",
       "      <td>20</td>\n",
       "      <td>0</td>\n",
       "      <td>3</td>\n",
       "      <td>3</td>\n",
       "      <td>1</td>\n",
       "      <td>6275</td>\n",
       "    </tr>\n",
       "    <tr>\n",
       "      <th>20</th>\n",
       "      <td>38</td>\n",
       "      <td>0</td>\n",
       "      <td>6.644764</td>\n",
       "      <td>6.644764</td>\n",
       "      <td>0</td>\n",
       "      <td>0</td>\n",
       "      <td>0</td>\n",
       "      <td>1</td>\n",
       "      <td>15</td>\n",
       "      <td>0</td>\n",
       "      <td>2</td>\n",
       "      <td>1</td>\n",
       "      <td>1</td>\n",
       "      <td>6276</td>\n",
       "    </tr>\n",
       "    <tr>\n",
       "      <th>21</th>\n",
       "      <td>50</td>\n",
       "      <td>0</td>\n",
       "      <td>7.748118</td>\n",
       "      <td>7.748118</td>\n",
       "      <td>0</td>\n",
       "      <td>1</td>\n",
       "      <td>0</td>\n",
       "      <td>1</td>\n",
       "      <td>15</td>\n",
       "      <td>1</td>\n",
       "      <td>2</td>\n",
       "      <td>3</td>\n",
       "      <td>1</td>\n",
       "      <td>6277</td>\n",
       "    </tr>\n",
       "    <tr>\n",
       "      <th>22</th>\n",
       "      <td>38</td>\n",
       "      <td>0</td>\n",
       "      <td>6.436687</td>\n",
       "      <td>6.318960</td>\n",
       "      <td>0</td>\n",
       "      <td>0</td>\n",
       "      <td>1</td>\n",
       "      <td>1</td>\n",
       "      <td>15</td>\n",
       "      <td>0</td>\n",
       "      <td>2</td>\n",
       "      <td>2</td>\n",
       "      <td>1</td>\n",
       "      <td>6278</td>\n",
       "    </tr>\n",
       "  </tbody>\n",
       "</table>\n",
       "</div>"
      ],
      "text/plain": [
       "    age  eventdeath   survival  timerecurrence  chemo  hormonal  amputation  \\\n",
       "ID                                                                            \n",
       "18   43           0  14.817248       14.817248      0         0           1   \n",
       "19   48           0  14.261465       14.261465      0         0           0   \n",
       "20   38           0   6.644764        6.644764      0         0           0   \n",
       "21   50           0   7.748118        7.748118      0         1           0   \n",
       "22   38           0   6.436687        6.318960      0         0           1   \n",
       "\n",
       "    histtype  diam  posnodes  grade  angioinv  lymphinfil  barcode  \n",
       "ID                                                                  \n",
       "18         1    25         0      2         3           1     6274  \n",
       "19         1    20         0      3         3           1     6275  \n",
       "20         1    15         0      2         1           1     6276  \n",
       "21         1    15         1      2         3           1     6277  \n",
       "22         1    15         0      2         2           1     6278  "
      ]
     },
     "execution_count": 6,
     "metadata": {},
     "output_type": "execute_result"
    }
   ],
   "source": [
    "# We can remove data columns that are uninterpretable\n",
    "remove=data.columns[14:]\n",
    "data=data.drop(remove,axis=1)\n",
    "data.head()"
   ]
  },
  {
   "cell_type": "code",
   "execution_count": 7,
   "id": "eb82d33e",
   "metadata": {},
   "outputs": [
    {
     "data": {
      "text/plain": [
       "0    195\n",
       "1     77\n",
       "Name: eventdeath, dtype: int64"
      ]
     },
     "execution_count": 7,
     "metadata": {},
     "output_type": "execute_result"
    }
   ],
   "source": [
    "data.eventdeath.value_counts()"
   ]
  },
  {
   "cell_type": "markdown",
   "id": "697c06b1",
   "metadata": {},
   "source": [
    "## Step 4: Finding Missing values"
   ]
  },
  {
   "cell_type": "code",
   "execution_count": 8,
   "id": "f66ad688",
   "metadata": {
    "scrolled": true
   },
   "outputs": [
    {
     "data": {
      "text/plain": [
       "age               0\n",
       "eventdeath        0\n",
       "survival          0\n",
       "timerecurrence    0\n",
       "chemo             0\n",
       "hormonal          0\n",
       "amputation        0\n",
       "histtype          0\n",
       "diam              0\n",
       "posnodes          0\n",
       "grade             0\n",
       "angioinv          0\n",
       "lymphinfil        0\n",
       "barcode           0\n",
       "dtype: int64"
      ]
     },
     "execution_count": 8,
     "metadata": {},
     "output_type": "execute_result"
    }
   ],
   "source": [
    "data.isnull().sum()"
   ]
  },
  {
   "cell_type": "markdown",
   "id": "cb4d56ea",
   "metadata": {},
   "source": [
    "#### We see there are no missing values and can proceed with the analysis"
   ]
  },
  {
   "cell_type": "markdown",
   "id": "a99cf7d4",
   "metadata": {},
   "source": [
    "## Step 5: Visualising the data by creating hist and kde plots to observe the data distribution"
   ]
  },
  {
   "cell_type": "code",
   "execution_count": 9,
   "id": "3bff8d07",
   "metadata": {},
   "outputs": [
    {
     "data": {
      "image/png": "[encoded data removed]",
      "text/plain": [
       "<Figure size 1296x2160 with 15 Axes>"
      ]
     },
     "metadata": {
      "needs_background": "light"
     },
     "output_type": "display_data"
    }
   ],
   "source": [
    "fig, ax = plt.subplots(ncols=3, nrows=5, figsize=(18,30))\n",
    "index = 0\n",
    "ax = ax.flatten()\n",
    "\n",
    "for col, value in data.items():\n",
    "    col_dist = sns.histplot(value, ax=ax[index], color='green',kde=True, stat=\"density\", linewidth=0)\n",
    "    col_dist.set_xlabel(col,fontsize=18)\n",
    "    col_dist.set_ylabel('density',fontsize=18)\n",
    "    index += 1\n",
    "plt.tight_layout(pad=0.5, w_pad=0.7, h_pad=5.0)"
   ]
  },
  {
   "cell_type": "markdown",
   "id": "18a16b47",
   "metadata": {},
   "source": [
    "### let's plot the correlation matrix"
   ]
  },
  {
   "cell_type": "code",
   "execution_count": 10,
   "id": "5c5706d5",
   "metadata": {},
   "outputs": [
    {
     "data": {
      "text/plain": [
       "<AxesSubplot:>"
      ]
     },
     "execution_count": 10,
     "metadata": {},
     "output_type": "execute_result"
    },
    {
     "data": {
      "image/png": "[encoded data removed]",
      "text/plain": [
       "<Figure size 1440x1008 with 2 Axes>"
      ]
     },
     "metadata": {
      "needs_background": "light"
     },
     "output_type": "display_data"
    }
   ],
   "source": [
    "correlation = data.corr()\n",
    "plt.figure(figsize = (20,14))\n",
    "sns.heatmap(correlation, cmap='BrBG', annot = True)"
   ]
  },
  {
   "cell_type": "code",
   "execution_count": 11,
   "id": "fc951163",
   "metadata": {},
   "outputs": [
    {
     "name": "stdout",
     "output_type": "stream",
     "text": [
      "age              -0.147643\n",
      "eventdeath        1.000000\n",
      "survival         -0.540482\n",
      "timerecurrence   -0.608654\n",
      "chemo            -0.071676\n",
      "hormonal         -0.100933\n",
      "amputation        0.066227\n",
      "histtype         -0.007382\n",
      "diam              0.215344\n",
      "posnodes          0.091779\n",
      "grade             0.359616\n",
      "angioinv          0.160251\n",
      "lymphinfil        0.080861\n",
      "barcode          -0.149263\n",
      "Name: eventdeath, dtype: float64\n"
     ]
    }
   ],
   "source": [
    "corr_diag = data.corr()['eventdeath']\n",
    "print(corr_diag)"
   ]
  },
  {
   "cell_type": "markdown",
   "id": "14436242",
   "metadata": {},
   "source": [
    "## Step 6: Dividing into X and Y sets for the model building"
   ]
  },
  {
   "cell_type": "code",
   "execution_count": 12,
   "id": "eecfb84d",
   "metadata": {},
   "outputs": [],
   "source": [
    "X=data.drop('eventdeath',axis=1)\n",
    "y=data['eventdeath']"
   ]
  },
  {
   "cell_type": "markdown",
   "id": "538d9170",
   "metadata": {},
   "source": [
    "## Step 7: Rescaling the Features\n",
    "Scaling doesn't impact your model. So it is extremely important to rescale the variables so that they have a comparable scale. If we don't have comparable scales, then some of the coefficients as obtained by fitting the \n",
    "regression model might be very large or very small as compared to the other coefficients. \n",
    "So it is advised to use standardization or normalization so that the units of the coefficients \n",
    "obtained are all on the same scale. As you know, there are two common ways of rescaling:\n",
    "\n",
    "1. Min-Max scaling\n",
    "2. Standardisation (mean-0, sigma-1)\n",
    "\n",
    "This time, we will use standardisation scaling."
   ]
  },
  {
   "cell_type": "code",
   "execution_count": 13,
   "id": "7ce5d760",
   "metadata": {},
   "outputs": [
    {
     "data": {
      "text/html": [
       "<div>\n",
       "<style scoped>\n",
       "    .dataframe tbody tr th:only-of-type {\n",
       "        vertical-align: middle;\n",
       "    }\n",
       "\n",
       "    .dataframe tbody tr th {\n",
       "        vertical-align: top;\n",
       "    }\n",
       "\n",
       "    .dataframe thead th {\n",
       "        text-align: right;\n",
       "    }\n",
       "</style>\n",
       "<table border=\"1\" class=\"dataframe\">\n",
       "  <thead>\n",
       "    <tr style=\"text-align: right;\">\n",
       "      <th></th>\n",
       "      <th>age</th>\n",
       "      <th>survival</th>\n",
       "      <th>timerecurrence</th>\n",
       "      <th>chemo</th>\n",
       "      <th>hormonal</th>\n",
       "      <th>amputation</th>\n",
       "      <th>histtype</th>\n",
       "      <th>diam</th>\n",
       "      <th>posnodes</th>\n",
       "      <th>grade</th>\n",
       "      <th>angioinv</th>\n",
       "      <th>lymphinfil</th>\n",
       "      <th>barcode</th>\n",
       "    </tr>\n",
       "    <tr>\n",
       "      <th>ID</th>\n",
       "      <th></th>\n",
       "      <th></th>\n",
       "      <th></th>\n",
       "      <th></th>\n",
       "      <th></th>\n",
       "      <th></th>\n",
       "      <th></th>\n",
       "      <th></th>\n",
       "      <th></th>\n",
       "      <th></th>\n",
       "      <th></th>\n",
       "      <th></th>\n",
       "      <th></th>\n",
       "    </tr>\n",
       "  </thead>\n",
       "  <tbody>\n",
       "    <tr>\n",
       "      <th>18</th>\n",
       "      <td>-0.192098</td>\n",
       "      <td>1.728368</td>\n",
       "      <td>1.814682</td>\n",
       "      <td>-0.805286</td>\n",
       "      <td>-0.390567</td>\n",
       "      <td>1.125463</td>\n",
       "      <td>-0.202499</td>\n",
       "      <td>0.284390</td>\n",
       "      <td>-0.637497</td>\n",
       "      <td>-0.161582</td>\n",
       "      <td>1.546710</td>\n",
       "      <td>-0.438313</td>\n",
       "      <td>0.079506</td>\n",
       "    </tr>\n",
       "    <tr>\n",
       "      <th>19</th>\n",
       "      <td>0.724579</td>\n",
       "      <td>1.585775</td>\n",
       "      <td>1.681393</td>\n",
       "      <td>-0.805286</td>\n",
       "      <td>-0.390567</td>\n",
       "      <td>-0.888523</td>\n",
       "      <td>-0.202499</td>\n",
       "      <td>-0.291161</td>\n",
       "      <td>-0.637497</td>\n",
       "      <td>1.094143</td>\n",
       "      <td>1.546710</td>\n",
       "      <td>-0.438313</td>\n",
       "      <td>0.081058</td>\n",
       "    </tr>\n",
       "    <tr>\n",
       "      <th>20</th>\n",
       "      <td>-1.108775</td>\n",
       "      <td>-0.368384</td>\n",
       "      <td>-0.145252</td>\n",
       "      <td>-0.805286</td>\n",
       "      <td>-0.390567</td>\n",
       "      <td>-0.888523</td>\n",
       "      <td>-0.202499</td>\n",
       "      <td>-0.866712</td>\n",
       "      <td>-0.637497</td>\n",
       "      <td>-0.161582</td>\n",
       "      <td>-0.739731</td>\n",
       "      <td>-0.438313</td>\n",
       "      <td>0.082610</td>\n",
       "    </tr>\n",
       "    <tr>\n",
       "      <th>21</th>\n",
       "      <td>1.091250</td>\n",
       "      <td>-0.085305</td>\n",
       "      <td>0.119355</td>\n",
       "      <td>-0.805286</td>\n",
       "      <td>2.560382</td>\n",
       "      <td>-0.888523</td>\n",
       "      <td>-0.202499</td>\n",
       "      <td>-0.866712</td>\n",
       "      <td>-0.162431</td>\n",
       "      <td>-0.161582</td>\n",
       "      <td>1.546710</td>\n",
       "      <td>-0.438313</td>\n",
       "      <td>0.084163</td>\n",
       "    </tr>\n",
       "    <tr>\n",
       "      <th>22</th>\n",
       "      <td>-1.108775</td>\n",
       "      <td>-0.421768</td>\n",
       "      <td>-0.223387</td>\n",
       "      <td>-0.805286</td>\n",
       "      <td>-0.390567</td>\n",
       "      <td>1.125463</td>\n",
       "      <td>-0.202499</td>\n",
       "      <td>-0.866712</td>\n",
       "      <td>-0.637497</td>\n",
       "      <td>-0.161582</td>\n",
       "      <td>0.403490</td>\n",
       "      <td>-0.438313</td>\n",
       "      <td>0.085715</td>\n",
       "    </tr>\n",
       "  </tbody>\n",
       "</table>\n",
       "</div>"
      ],
      "text/plain": [
       "         age  survival  timerecurrence     chemo  hormonal  amputation  \\\n",
       "ID                                                                       \n",
       "18 -0.192098  1.728368        1.814682 -0.805286 -0.390567    1.125463   \n",
       "19  0.724579  1.585775        1.681393 -0.805286 -0.390567   -0.888523   \n",
       "20 -1.108775 -0.368384       -0.145252 -0.805286 -0.390567   -0.888523   \n",
       "21  1.091250 -0.085305        0.119355 -0.805286  2.560382   -0.888523   \n",
       "22 -1.108775 -0.421768       -0.223387 -0.805286 -0.390567    1.125463   \n",
       "\n",
       "    histtype      diam  posnodes     grade  angioinv  lymphinfil   barcode  \n",
       "ID                                                                          \n",
       "18 -0.202499  0.284390 -0.637497 -0.161582  1.546710   -0.438313  0.079506  \n",
       "19 -0.202499 -0.291161 -0.637497  1.094143  1.546710   -0.438313  0.081058  \n",
       "20 -0.202499 -0.866712 -0.637497 -0.161582 -0.739731   -0.438313  0.082610  \n",
       "21 -0.202499 -0.866712 -0.162431 -0.161582  1.546710   -0.438313  0.084163  \n",
       "22 -0.202499 -0.866712 -0.637497 -0.161582  0.403490   -0.438313  0.085715  "
      ]
     },
     "execution_count": 13,
     "metadata": {},
     "output_type": "execute_result"
    }
   ],
   "source": [
    "from sklearn.preprocessing import StandardScaler\n",
    "\n",
    "scaler = StandardScaler()\n",
    "\n",
    "X[['age', 'survival', 'timerecurrence', 'chemo', 'hormonal', 'amputation',\n",
    "       'histtype', 'diam', 'posnodes', 'grade', 'angioinv', 'lymphinfil',\n",
    "       'barcode']]= scaler.fit_transform(X[['age', 'survival', 'timerecurrence', 'chemo', 'hormonal', 'amputation',\n",
    "       'histtype', 'diam', 'posnodes', 'grade', 'angioinv', 'lymphinfil',\n",
    "       'barcode']])\n",
    "\n",
    "X.head()"
   ]
  },
  {
   "cell_type": "markdown",
   "id": "92dd7d0e",
   "metadata": {},
   "source": [
    "## Step 8: Splitting the dataset into Train and Test"
   ]
  },
  {
   "cell_type": "code",
   "execution_count": 14,
   "id": "40e5452e",
   "metadata": {},
   "outputs": [],
   "source": [
    "# Splitting the data into train and test\n",
    "from sklearn.model_selection import train_test_split\n",
    "X_train, X_test, y_train, y_test = train_test_split(X, y, train_size=0.8, \n",
    "                                                    test_size=0.2, random_state=100)"
   ]
  },
  {
   "cell_type": "markdown",
   "id": "870a1b02",
   "metadata": {},
   "source": [
    "## Step 9 : Building a logistics regression Model"
   ]
  },
  {
   "cell_type": "code",
   "execution_count": 76,
   "id": "cb2ca830",
   "metadata": {},
   "outputs": [
    {
     "name": "stdout",
     "output_type": "stream",
     "text": [
      "                 Generalized Linear Model Regression Results                  \n",
      "==============================================================================\n",
      "Dep. Variable:             eventdeath   No. Observations:                  217\n",
      "Model:                            GLM   Df Residuals:                      203\n",
      "Model Family:                Binomial   Df Model:                           13\n",
      "Link Function:                  Logit   Scale:                          1.0000\n",
      "Method:                          IRLS   Log-Likelihood:                -64.607\n",
      "Date:                Wed, 22 Mar 2023   Deviance:                       129.21\n",
      "Time:                        00:06:49   Pearson chi2:                     367.\n",
      "No. Iterations:                     6   Pseudo R-squ. (CS):             0.4471\n",
      "Covariance Type:            nonrobust                                         \n",
      "==================================================================================\n",
      "                     coef    std err          z      P>|z|      [0.025      0.975]\n",
      "----------------------------------------------------------------------------------\n",
      "const             -1.7674      0.285     -6.202      0.000      -2.326      -1.209\n",
      "age               -0.0356      0.249     -0.143      0.886      -0.523       0.452\n",
      "survival          -0.4661      0.504     -0.926      0.355      -1.453       0.521\n",
      "timerecurrence    -1.9120      0.511     -3.740      0.000      -2.914      -0.910\n",
      "chemo             -0.3526      0.283     -1.244      0.213      -0.908       0.203\n",
      "hormonal          -0.3881      0.248     -1.564      0.118      -0.875       0.098\n",
      "amputation        -0.0678      0.251     -0.270      0.787      -0.560       0.424\n",
      "histtype          -0.1332      0.369     -0.361      0.718      -0.857       0.590\n",
      "diam               0.5695      0.286      1.993      0.046       0.009       1.130\n",
      "posnodes           0.2636      0.255      1.032      0.302      -0.237       0.764\n",
      "grade              0.7497      0.298      2.515      0.012       0.165       1.334\n",
      "angioinv           0.1242      0.250      0.498      0.619      -0.365       0.613\n",
      "lymphinfil        -0.4030      0.253     -1.590      0.112      -0.900       0.094\n",
      "barcode           -0.0406      0.217     -0.187      0.852      -0.466       0.385\n",
      "==================================================================================\n"
     ]
    }
   ],
   "source": [
    "import statsmodels.api as sm\n",
    "logm1 = sm.GLM(y_train,(sm.add_constant(X_train)), family = sm.families.Binomial())\n",
    "print(logm1.fit().summary())"
   ]
  },
  {
   "cell_type": "code",
   "execution_count": 16,
   "id": "36282fe5",
   "metadata": {},
   "outputs": [],
   "source": [
    "from sklearn.linear_model import LogisticRegression\n",
    "logreg = LogisticRegression()"
   ]
  },
  {
   "cell_type": "markdown",
   "id": "9d0103e7",
   "metadata": {},
   "source": [
    "## Step 10: Using Recursive Feature Elimination(RFE) \n",
    "\n",
    "We use RFE to eliminate less important features for effective solution. \n",
    "In this problem we have around 13 features. We will find out the more important ones.\n",
    "1. The algorithm used in RFE does not have to be the algorithm that is fit on the selected features; \n",
    "2. For example the alogorithm we are using here to fit the features is logistics regression. \n",
    "3. But we dont have to use it for RFE. We can for example use Decision tree instead of logistics regression\n"
   ]
  },
  {
   "cell_type": "code",
   "execution_count": 17,
   "id": "bc93ec16",
   "metadata": {},
   "outputs": [
    {
     "data": {
      "text/plain": [
       "array([False,  True,  True, False,  True, False, False,  True, False,\n",
       "        True, False,  True, False])"
      ]
     },
     "execution_count": 17,
     "metadata": {},
     "output_type": "execute_result"
    }
   ],
   "source": [
    "from sklearn.feature_selection import RFE\n",
    "rfe = RFE(logreg, step = 8)             # running RFE with 8 variables as output\n",
    "rfe = rfe.fit(X_train, y_train)\n",
    "rfe.support_"
   ]
  },
  {
   "cell_type": "code",
   "execution_count": 18,
   "id": "d75ea0c9",
   "metadata": {},
   "outputs": [
    {
     "data": {
      "text/plain": [
       "[('age', False, 2),\n",
       " ('survival', True, 1),\n",
       " ('timerecurrence', True, 1),\n",
       " ('chemo', False, 2),\n",
       " ('hormonal', True, 1),\n",
       " ('amputation', False, 2),\n",
       " ('histtype', False, 2),\n",
       " ('diam', True, 1),\n",
       " ('posnodes', False, 2),\n",
       " ('grade', True, 1),\n",
       " ('angioinv', False, 2),\n",
       " ('lymphinfil', True, 1),\n",
       " ('barcode', False, 2)]"
      ]
     },
     "execution_count": 18,
     "metadata": {},
     "output_type": "execute_result"
    }
   ],
   "source": [
    "list(zip(X_train.columns, rfe.support_, rfe.ranking_))"
   ]
  },
  {
   "cell_type": "code",
   "execution_count": 19,
   "id": "7743ef92",
   "metadata": {},
   "outputs": [],
   "source": [
    "col = X_train.columns[rfe.support_]"
   ]
  },
  {
   "cell_type": "code",
   "execution_count": 20,
   "id": "c5af9584",
   "metadata": {},
   "outputs": [
    {
     "data": {
      "text/plain": [
       "Index(['age', 'chemo', 'amputation', 'histtype', 'posnodes', 'angioinv',\n",
       "       'barcode'],\n",
       "      dtype='object')"
      ]
     },
     "execution_count": 20,
     "metadata": {},
     "output_type": "execute_result"
    }
   ],
   "source": [
    "# We see below the columns that have been eliminated using RFE\n",
    "X_train.columns[~rfe.support_]"
   ]
  },
  {
   "cell_type": "markdown",
   "id": "24c668e3",
   "metadata": {},
   "source": [
    "## Step 11: Using Logistics regression on the remaining variables after RFE"
   ]
  },
  {
   "cell_type": "code",
   "execution_count": 21,
   "id": "833ef550",
   "metadata": {},
   "outputs": [
    {
     "name": "stdout",
     "output_type": "stream",
     "text": [
      "                 Generalized Linear Model Regression Results                  \n",
      "==============================================================================\n",
      "Dep. Variable:             eventdeath   No. Observations:                  217\n",
      "Model:                            GLM   Df Residuals:                      210\n",
      "Model Family:                Binomial   Df Model:                            6\n",
      "Link Function:                  Logit   Scale:                          1.0000\n",
      "Method:                          IRLS   Log-Likelihood:                -65.754\n",
      "Date:                Wed, 22 Mar 2023   Deviance:                       131.51\n",
      "Time:                        00:06:33   Pearson chi2:                     370.\n",
      "No. Iterations:                     6   Pseudo R-squ. (CS):             0.4412\n",
      "Covariance Type:            nonrobust                                         \n",
      "==================================================================================\n",
      "                     coef    std err          z      P>|z|      [0.025      0.975]\n",
      "----------------------------------------------------------------------------------\n",
      "const             -1.7748      0.282     -6.289      0.000      -2.328      -1.222\n",
      "survival          -0.3814      0.488     -0.782      0.434      -1.337       0.574\n",
      "timerecurrence    -1.9869      0.498     -3.991      0.000      -2.963      -1.011\n",
      "hormonal          -0.3984      0.232     -1.720      0.085      -0.852       0.056\n",
      "diam               0.5423      0.254      2.132      0.033       0.044       1.041\n",
      "grade              0.8531      0.276      3.085      0.002       0.311       1.395\n",
      "lymphinfil        -0.4249      0.235     -1.805      0.071      -0.886       0.036\n",
      "==================================================================================\n"
     ]
    }
   ],
   "source": [
    "X_train_sm = sm.add_constant(X_train[col])\n",
    "logm2 = sm.GLM(y_train,X_train_sm, family = sm.families.Binomial())\n",
    "res = logm2.fit()\n",
    "print(res.summary())"
   ]
  },
  {
   "cell_type": "code",
   "execution_count": 22,
   "id": "cd75ff4d",
   "metadata": {},
   "outputs": [
    {
     "data": {
      "text/plain": [
       "ID\n",
       "134    0.661113\n",
       "220    0.254675\n",
       "47     0.990075\n",
       "121    0.963457\n",
       "239    0.000475\n",
       "131    0.001400\n",
       "21     0.031645\n",
       "227    0.179442\n",
       "241    0.941208\n",
       "88     0.003975\n",
       "dtype: float64"
      ]
     },
     "execution_count": 22,
     "metadata": {},
     "output_type": "execute_result"
    }
   ],
   "source": [
    "y_train_pred = res.predict(X_train_sm)\n",
    "y_train_pred[:10]"
   ]
  },
  {
   "cell_type": "code",
   "execution_count": 23,
   "id": "8b9ba313",
   "metadata": {},
   "outputs": [
    {
     "data": {
      "text/plain": [
       "array([6.61112954e-01, 2.54674593e-01, 9.90075374e-01, 9.63457286e-01,\n",
       "       4.75000630e-04, 1.40044412e-03, 3.16454491e-02, 1.79442135e-01,\n",
       "       9.41207773e-01, 3.97518622e-03])"
      ]
     },
     "execution_count": 23,
     "metadata": {},
     "output_type": "execute_result"
    }
   ],
   "source": [
    "y_train_pred = y_train_pred.values.reshape(-1)\n",
    "y_train_pred[:10]"
   ]
  },
  {
   "cell_type": "code",
   "execution_count": 24,
   "id": "a1dd49e1",
   "metadata": {},
   "outputs": [
    {
     "data": {
      "text/html": [
       "<div>\n",
       "<style scoped>\n",
       "    .dataframe tbody tr th:only-of-type {\n",
       "        vertical-align: middle;\n",
       "    }\n",
       "\n",
       "    .dataframe tbody tr th {\n",
       "        vertical-align: top;\n",
       "    }\n",
       "\n",
       "    .dataframe thead th {\n",
       "        text-align: right;\n",
       "    }\n",
       "</style>\n",
       "<table border=\"1\" class=\"dataframe\">\n",
       "  <thead>\n",
       "    <tr style=\"text-align: right;\">\n",
       "      <th></th>\n",
       "      <th>Event_Death</th>\n",
       "      <th>Event_Death_Prob</th>\n",
       "      <th>Patient_ID</th>\n",
       "    </tr>\n",
       "  </thead>\n",
       "  <tbody>\n",
       "    <tr>\n",
       "      <th>0</th>\n",
       "      <td>1</td>\n",
       "      <td>0.661113</td>\n",
       "      <td>134</td>\n",
       "    </tr>\n",
       "    <tr>\n",
       "      <th>1</th>\n",
       "      <td>0</td>\n",
       "      <td>0.254675</td>\n",
       "      <td>220</td>\n",
       "    </tr>\n",
       "    <tr>\n",
       "      <th>2</th>\n",
       "      <td>1</td>\n",
       "      <td>0.990075</td>\n",
       "      <td>47</td>\n",
       "    </tr>\n",
       "    <tr>\n",
       "      <th>3</th>\n",
       "      <td>1</td>\n",
       "      <td>0.963457</td>\n",
       "      <td>121</td>\n",
       "    </tr>\n",
       "    <tr>\n",
       "      <th>4</th>\n",
       "      <td>0</td>\n",
       "      <td>0.000475</td>\n",
       "      <td>239</td>\n",
       "    </tr>\n",
       "  </tbody>\n",
       "</table>\n",
       "</div>"
      ],
      "text/plain": [
       "   Event_Death  Event_Death_Prob  Patient_ID\n",
       "0            1          0.661113         134\n",
       "1            0          0.254675         220\n",
       "2            1          0.990075          47\n",
       "3            1          0.963457         121\n",
       "4            0          0.000475         239"
      ]
     },
     "execution_count": 24,
     "metadata": {},
     "output_type": "execute_result"
    }
   ],
   "source": [
    "y_train_pred_final = pd.DataFrame({'Event_Death':y_train.values, 'Event_Death_Prob':y_train_pred})\n",
    "y_train_pred_final['Patient_ID'] = y_train.index\n",
    "y_train_pred_final.head()"
   ]
  },
  {
   "cell_type": "code",
   "execution_count": 25,
   "id": "b4d9a389",
   "metadata": {},
   "outputs": [
    {
     "data": {
      "text/html": [
       "<div>\n",
       "<style scoped>\n",
       "    .dataframe tbody tr th:only-of-type {\n",
       "        vertical-align: middle;\n",
       "    }\n",
       "\n",
       "    .dataframe tbody tr th {\n",
       "        vertical-align: top;\n",
       "    }\n",
       "\n",
       "    .dataframe thead th {\n",
       "        text-align: right;\n",
       "    }\n",
       "</style>\n",
       "<table border=\"1\" class=\"dataframe\">\n",
       "  <thead>\n",
       "    <tr style=\"text-align: right;\">\n",
       "      <th></th>\n",
       "      <th>Event_Death</th>\n",
       "      <th>Event_Death_Prob</th>\n",
       "      <th>Patient_ID</th>\n",
       "      <th>Event_Death_Predicted</th>\n",
       "    </tr>\n",
       "  </thead>\n",
       "  <tbody>\n",
       "    <tr>\n",
       "      <th>0</th>\n",
       "      <td>1</td>\n",
       "      <td>0.661113</td>\n",
       "      <td>134</td>\n",
       "      <td>1</td>\n",
       "    </tr>\n",
       "    <tr>\n",
       "      <th>1</th>\n",
       "      <td>0</td>\n",
       "      <td>0.254675</td>\n",
       "      <td>220</td>\n",
       "      <td>1</td>\n",
       "    </tr>\n",
       "    <tr>\n",
       "      <th>2</th>\n",
       "      <td>1</td>\n",
       "      <td>0.990075</td>\n",
       "      <td>47</td>\n",
       "      <td>1</td>\n",
       "    </tr>\n",
       "    <tr>\n",
       "      <th>3</th>\n",
       "      <td>1</td>\n",
       "      <td>0.963457</td>\n",
       "      <td>121</td>\n",
       "      <td>1</td>\n",
       "    </tr>\n",
       "    <tr>\n",
       "      <th>4</th>\n",
       "      <td>0</td>\n",
       "      <td>0.000475</td>\n",
       "      <td>239</td>\n",
       "      <td>0</td>\n",
       "    </tr>\n",
       "  </tbody>\n",
       "</table>\n",
       "</div>"
      ],
      "text/plain": [
       "   Event_Death  Event_Death_Prob  Patient_ID  Event_Death_Predicted\n",
       "0            1          0.661113         134                      1\n",
       "1            0          0.254675         220                      1\n",
       "2            1          0.990075          47                      1\n",
       "3            1          0.963457         121                      1\n",
       "4            0          0.000475         239                      0"
      ]
     },
     "execution_count": 25,
     "metadata": {},
     "output_type": "execute_result"
    }
   ],
   "source": [
    "y_train_pred_final['Event_Death_Predicted'] = y_train_pred_final.Event_Death_Prob.map(lambda x: 1 if x > 0.1 else 0)\n",
    "# Let's see the head\n",
    "y_train_pred_final.head()"
   ]
  },
  {
   "cell_type": "markdown",
   "id": "bff2f6a3",
   "metadata": {},
   "source": [
    "#### Sklearn metrics let you assess the quality of your predictions"
   ]
  },
  {
   "cell_type": "code",
   "execution_count": 26,
   "id": "32d99021",
   "metadata": {},
   "outputs": [],
   "source": [
    "from sklearn import metrics"
   ]
  },
  {
   "cell_type": "markdown",
   "id": "c3a1bc5f",
   "metadata": {},
   "source": [
    "### Confusion Matrix \n",
    "1. It is a table that is used in classification problems to assess where errors in the model were made. \n",
    "2. The rows represent the actual classes the outcomes should have been. \n",
    "3. While the columns represent the predictions we have made. \n",
    "4. Using this table it is easy to see which predictions are wrong."
   ]
  },
  {
   "cell_type": "code",
   "execution_count": 27,
   "id": "10bd33ec",
   "metadata": {
    "scrolled": true
   },
   "outputs": [
    {
     "name": "stdout",
     "output_type": "stream",
     "text": [
      "[[97 59]\n",
      " [ 4 57]]\n"
     ]
    }
   ],
   "source": [
    "confusion = metrics.confusion_matrix(y_train_pred_final.Event_Death\t, y_train_pred_final.Event_Death_Predicted )\n",
    "print(confusion)"
   ]
  },
  {
   "cell_type": "code",
   "execution_count": 28,
   "id": "96805eea",
   "metadata": {},
   "outputs": [
    {
     "name": "stdout",
     "output_type": "stream",
     "text": [
      "0.7096774193548387\n"
     ]
    }
   ],
   "source": [
    "# Let's check the overall accuracy.\n",
    "print(metrics.accuracy_score(y_train_pred_final.Event_Death\t, y_train_pred_final.Event_Death_Predicted))"
   ]
  },
  {
   "cell_type": "markdown",
   "id": "03a69f0c",
   "metadata": {},
   "source": [
    "## Step 12: Checking Variance Inflation factor (VIF) \n",
    "\n",
    "VIF measures the strength of correlation between independent variables in regression analysis.\n",
    "\n",
    "A correlation plot can be used to identify the correlation or bivariate relationship between two \n",
    "independent variables whereas VIF is used to identify the correlation of one independent variable \n",
    "with a group of other variables. Hence, it is preferred to use VIF for better understanding."
   ]
  },
  {
   "cell_type": "code",
   "execution_count": 29,
   "id": "f76d3cca",
   "metadata": {},
   "outputs": [],
   "source": [
    "# Check for the VIF values of the feature variables. \n",
    "from statsmodels.stats.outliers_influence import variance_inflation_factor"
   ]
  },
  {
   "cell_type": "code",
   "execution_count": 30,
   "id": "88168719",
   "metadata": {},
   "outputs": [
    {
     "data": {
      "text/html": [
       "<div>\n",
       "<style scoped>\n",
       "    .dataframe tbody tr th:only-of-type {\n",
       "        vertical-align: middle;\n",
       "    }\n",
       "\n",
       "    .dataframe tbody tr th {\n",
       "        vertical-align: top;\n",
       "    }\n",
       "\n",
       "    .dataframe thead th {\n",
       "        text-align: right;\n",
       "    }\n",
       "</style>\n",
       "<table border=\"1\" class=\"dataframe\">\n",
       "  <thead>\n",
       "    <tr style=\"text-align: right;\">\n",
       "      <th></th>\n",
       "      <th>Features</th>\n",
       "      <th>VIF</th>\n",
       "    </tr>\n",
       "  </thead>\n",
       "  <tbody>\n",
       "    <tr>\n",
       "      <th>0</th>\n",
       "      <td>survival</td>\n",
       "      <td>6.98</td>\n",
       "    </tr>\n",
       "    <tr>\n",
       "      <th>1</th>\n",
       "      <td>timerecurrence</td>\n",
       "      <td>6.85</td>\n",
       "    </tr>\n",
       "    <tr>\n",
       "      <th>4</th>\n",
       "      <td>grade</td>\n",
       "      <td>1.37</td>\n",
       "    </tr>\n",
       "    <tr>\n",
       "      <th>5</th>\n",
       "      <td>lymphinfil</td>\n",
       "      <td>1.23</td>\n",
       "    </tr>\n",
       "    <tr>\n",
       "      <th>3</th>\n",
       "      <td>diam</td>\n",
       "      <td>1.13</td>\n",
       "    </tr>\n",
       "    <tr>\n",
       "      <th>2</th>\n",
       "      <td>hormonal</td>\n",
       "      <td>1.05</td>\n",
       "    </tr>\n",
       "  </tbody>\n",
       "</table>\n",
       "</div>"
      ],
      "text/plain": [
       "         Features   VIF\n",
       "0        survival  6.98\n",
       "1  timerecurrence  6.85\n",
       "4           grade  1.37\n",
       "5      lymphinfil  1.23\n",
       "3            diam  1.13\n",
       "2        hormonal  1.05"
      ]
     },
     "execution_count": 30,
     "metadata": {},
     "output_type": "execute_result"
    }
   ],
   "source": [
    "# Create a dataframe that will contain the names of all the feature variables and their respective VIFs\n",
    "vif = pd.DataFrame()\n",
    "vif['Features'] = X_train[col].columns\n",
    "vif['VIF'] = [variance_inflation_factor(X_train[col].values, i) for i in range(X_train[col].shape[1])]\n",
    "vif['VIF'] = round(vif['VIF'], 2)\n",
    "vif = vif.sort_values(by = \"VIF\", ascending = False)\n",
    "vif"
   ]
  },
  {
   "cell_type": "markdown",
   "id": "d111cb81",
   "metadata": {},
   "source": [
    "#### In general terms,\n",
    "\n",
    "1. VIF equal to 1 = variables are not correlated\n",
    "2. VIF between 1 and 5 = variables are moderately correlated \n",
    "3. VIF greater than 5 = variables are highly correlated\n",
    "\n",
    "So we will eliminate the variable with VIF more than 5. Here we have two variables `survival` and `timerecurrence`\n",
    "We will drop `survival` first and check the VIF to see if we need to remove the second variable `timerecurrence` \n",
    "or not"
   ]
  },
  {
   "cell_type": "code",
   "execution_count": 31,
   "id": "1674b264",
   "metadata": {},
   "outputs": [
    {
     "data": {
      "text/plain": [
       "Index(['timerecurrence', 'hormonal', 'diam', 'grade', 'lymphinfil'], dtype='object')"
      ]
     },
     "execution_count": 31,
     "metadata": {},
     "output_type": "execute_result"
    }
   ],
   "source": [
    "col = col.drop('survival', 1)\n",
    "col"
   ]
  },
  {
   "cell_type": "markdown",
   "id": "76f6fe78",
   "metadata": {},
   "source": [
    "## Step 13: Re-run the model using the selected variables"
   ]
  },
  {
   "cell_type": "code",
   "execution_count": 32,
   "id": "04fb12a5",
   "metadata": {},
   "outputs": [
    {
     "name": "stdout",
     "output_type": "stream",
     "text": [
      "                 Generalized Linear Model Regression Results                  \n",
      "==============================================================================\n",
      "Dep. Variable:             eventdeath   No. Observations:                  217\n",
      "Model:                            GLM   Df Residuals:                      211\n",
      "Model Family:                Binomial   Df Model:                            5\n",
      "Link Function:                  Logit   Scale:                          1.0000\n",
      "Method:                          IRLS   Log-Likelihood:                -66.061\n",
      "Date:                Wed, 22 Mar 2023   Deviance:                       132.12\n",
      "Time:                        00:06:33   Pearson chi2:                     324.\n",
      "No. Iterations:                     6   Pseudo R-squ. (CS):             0.4396\n",
      "Covariance Type:            nonrobust                                         \n",
      "==================================================================================\n",
      "                     coef    std err          z      P>|z|      [0.025      0.975]\n",
      "----------------------------------------------------------------------------------\n",
      "const             -1.7598      0.280     -6.293      0.000      -2.308      -1.212\n",
      "timerecurrence    -2.2762      0.342     -6.661      0.000      -2.946      -1.606\n",
      "hormonal          -0.3712      0.227     -1.634      0.102      -0.817       0.074\n",
      "diam               0.5300      0.252      2.107      0.035       0.037       1.023\n",
      "grade              0.8787      0.275      3.191      0.001       0.339       1.418\n",
      "lymphinfil        -0.4190      0.232     -1.805      0.071      -0.874       0.036\n",
      "==================================================================================\n"
     ]
    }
   ],
   "source": [
    "\n",
    "X_train_sm = sm.add_constant(X_train[col])\n",
    "logm3 = sm.GLM(y_train,X_train_sm, family = sm.families.Binomial())\n",
    "res = logm3.fit()\n",
    "print(res.summary())"
   ]
  },
  {
   "cell_type": "code",
   "execution_count": 33,
   "id": "f21c21ec",
   "metadata": {},
   "outputs": [],
   "source": [
    "y_train_pred = res.predict(X_train_sm).values.reshape(-1)"
   ]
  },
  {
   "cell_type": "code",
   "execution_count": 34,
   "id": "f8297ebc",
   "metadata": {},
   "outputs": [
    {
     "data": {
      "text/html": [
       "<div>\n",
       "<style scoped>\n",
       "    .dataframe tbody tr th:only-of-type {\n",
       "        vertical-align: middle;\n",
       "    }\n",
       "\n",
       "    .dataframe tbody tr th {\n",
       "        vertical-align: top;\n",
       "    }\n",
       "\n",
       "    .dataframe thead th {\n",
       "        text-align: right;\n",
       "    }\n",
       "</style>\n",
       "<table border=\"1\" class=\"dataframe\">\n",
       "  <thead>\n",
       "    <tr style=\"text-align: right;\">\n",
       "      <th></th>\n",
       "      <th>Event_Death</th>\n",
       "      <th>Event_Death_Prob</th>\n",
       "      <th>Patient_ID</th>\n",
       "    </tr>\n",
       "  </thead>\n",
       "  <tbody>\n",
       "    <tr>\n",
       "      <th>0</th>\n",
       "      <td>1</td>\n",
       "      <td>0.634695</td>\n",
       "      <td>134</td>\n",
       "    </tr>\n",
       "    <tr>\n",
       "      <th>1</th>\n",
       "      <td>0</td>\n",
       "      <td>0.237069</td>\n",
       "      <td>220</td>\n",
       "    </tr>\n",
       "    <tr>\n",
       "      <th>2</th>\n",
       "      <td>1</td>\n",
       "      <td>0.989245</td>\n",
       "      <td>47</td>\n",
       "    </tr>\n",
       "    <tr>\n",
       "      <th>3</th>\n",
       "      <td>1</td>\n",
       "      <td>0.958904</td>\n",
       "      <td>121</td>\n",
       "    </tr>\n",
       "    <tr>\n",
       "      <th>4</th>\n",
       "      <td>0</td>\n",
       "      <td>0.000588</td>\n",
       "      <td>239</td>\n",
       "    </tr>\n",
       "  </tbody>\n",
       "</table>\n",
       "</div>"
      ],
      "text/plain": [
       "   Event_Death  Event_Death_Prob  Patient_ID\n",
       "0            1          0.634695         134\n",
       "1            0          0.237069         220\n",
       "2            1          0.989245          47\n",
       "3            1          0.958904         121\n",
       "4            0          0.000588         239"
      ]
     },
     "execution_count": 34,
     "metadata": {},
     "output_type": "execute_result"
    }
   ],
   "source": [
    "y_train_pred_final = pd.DataFrame({'Event_Death':y_train.values, 'Event_Death_Prob':y_train_pred})\n",
    "y_train_pred_final['Patient_ID'] = y_train.index\n",
    "y_train_pred_final.head()"
   ]
  },
  {
   "cell_type": "code",
   "execution_count": 35,
   "id": "bf14ddad",
   "metadata": {},
   "outputs": [
    {
     "data": {
      "text/html": [
       "<div>\n",
       "<style scoped>\n",
       "    .dataframe tbody tr th:only-of-type {\n",
       "        vertical-align: middle;\n",
       "    }\n",
       "\n",
       "    .dataframe tbody tr th {\n",
       "        vertical-align: top;\n",
       "    }\n",
       "\n",
       "    .dataframe thead th {\n",
       "        text-align: right;\n",
       "    }\n",
       "</style>\n",
       "<table border=\"1\" class=\"dataframe\">\n",
       "  <thead>\n",
       "    <tr style=\"text-align: right;\">\n",
       "      <th></th>\n",
       "      <th>Event_Death</th>\n",
       "      <th>Event_Death_Prob</th>\n",
       "      <th>Patient_ID</th>\n",
       "      <th>Event_Death_Predicted</th>\n",
       "    </tr>\n",
       "  </thead>\n",
       "  <tbody>\n",
       "    <tr>\n",
       "      <th>0</th>\n",
       "      <td>1</td>\n",
       "      <td>0.634695</td>\n",
       "      <td>134</td>\n",
       "      <td>1</td>\n",
       "    </tr>\n",
       "    <tr>\n",
       "      <th>1</th>\n",
       "      <td>0</td>\n",
       "      <td>0.237069</td>\n",
       "      <td>220</td>\n",
       "      <td>0</td>\n",
       "    </tr>\n",
       "    <tr>\n",
       "      <th>2</th>\n",
       "      <td>1</td>\n",
       "      <td>0.989245</td>\n",
       "      <td>47</td>\n",
       "      <td>1</td>\n",
       "    </tr>\n",
       "    <tr>\n",
       "      <th>3</th>\n",
       "      <td>1</td>\n",
       "      <td>0.958904</td>\n",
       "      <td>121</td>\n",
       "      <td>1</td>\n",
       "    </tr>\n",
       "    <tr>\n",
       "      <th>4</th>\n",
       "      <td>0</td>\n",
       "      <td>0.000588</td>\n",
       "      <td>239</td>\n",
       "      <td>0</td>\n",
       "    </tr>\n",
       "  </tbody>\n",
       "</table>\n",
       "</div>"
      ],
      "text/plain": [
       "   Event_Death  Event_Death_Prob  Patient_ID  Event_Death_Predicted\n",
       "0            1          0.634695         134                      1\n",
       "1            0          0.237069         220                      0\n",
       "2            1          0.989245          47                      1\n",
       "3            1          0.958904         121                      1\n",
       "4            0          0.000588         239                      0"
      ]
     },
     "execution_count": 35,
     "metadata": {},
     "output_type": "execute_result"
    }
   ],
   "source": [
    "y_train_pred_final['Event_Death_Predicted'] = y_train_pred_final.Event_Death_Prob.map(lambda x: 1 if x > 0.5 else 0)\n",
    "\n",
    "# Let's see the head\n",
    "y_train_pred_final.head()"
   ]
  },
  {
   "cell_type": "code",
   "execution_count": 36,
   "id": "b4937a93",
   "metadata": {},
   "outputs": [
    {
     "name": "stdout",
     "output_type": "stream",
     "text": [
      "[[147   9]\n",
      " [ 16  45]]\n"
     ]
    }
   ],
   "source": [
    "# Confusion matrix \n",
    "confusion = metrics.confusion_matrix(y_train_pred_final.Event_Death\t, y_train_pred_final.Event_Death_Predicted )\n",
    "print(confusion)"
   ]
  },
  {
   "cell_type": "code",
   "execution_count": 37,
   "id": "3d177c9e",
   "metadata": {},
   "outputs": [
    {
     "name": "stdout",
     "output_type": "stream",
     "text": [
      "0.8847926267281107\n"
     ]
    }
   ],
   "source": [
    "# Let's check the overall accuracy.\n",
    "print(metrics.accuracy_score(y_train_pred_final.Event_Death\t, y_train_pred_final.Event_Death_Predicted))"
   ]
  },
  {
   "cell_type": "code",
   "execution_count": 38,
   "id": "3f51a579",
   "metadata": {},
   "outputs": [
    {
     "data": {
      "text/html": [
       "<div>\n",
       "<style scoped>\n",
       "    .dataframe tbody tr th:only-of-type {\n",
       "        vertical-align: middle;\n",
       "    }\n",
       "\n",
       "    .dataframe tbody tr th {\n",
       "        vertical-align: top;\n",
       "    }\n",
       "\n",
       "    .dataframe thead th {\n",
       "        text-align: right;\n",
       "    }\n",
       "</style>\n",
       "<table border=\"1\" class=\"dataframe\">\n",
       "  <thead>\n",
       "    <tr style=\"text-align: right;\">\n",
       "      <th></th>\n",
       "      <th>Features</th>\n",
       "      <th>VIF</th>\n",
       "    </tr>\n",
       "  </thead>\n",
       "  <tbody>\n",
       "    <tr>\n",
       "      <th>3</th>\n",
       "      <td>grade</td>\n",
       "      <td>1.36</td>\n",
       "    </tr>\n",
       "    <tr>\n",
       "      <th>4</th>\n",
       "      <td>lymphinfil</td>\n",
       "      <td>1.23</td>\n",
       "    </tr>\n",
       "    <tr>\n",
       "      <th>2</th>\n",
       "      <td>diam</td>\n",
       "      <td>1.12</td>\n",
       "    </tr>\n",
       "    <tr>\n",
       "      <th>0</th>\n",
       "      <td>timerecurrence</td>\n",
       "      <td>1.04</td>\n",
       "    </tr>\n",
       "    <tr>\n",
       "      <th>1</th>\n",
       "      <td>hormonal</td>\n",
       "      <td>1.02</td>\n",
       "    </tr>\n",
       "  </tbody>\n",
       "</table>\n",
       "</div>"
      ],
      "text/plain": [
       "         Features   VIF\n",
       "3           grade  1.36\n",
       "4      lymphinfil  1.23\n",
       "2            diam  1.12\n",
       "0  timerecurrence  1.04\n",
       "1        hormonal  1.02"
      ]
     },
     "execution_count": 38,
     "metadata": {},
     "output_type": "execute_result"
    }
   ],
   "source": [
    "# Create a dataframe that will contain the names of all the feature variables and their respective VIFs\n",
    "vif = pd.DataFrame()\n",
    "vif['Features'] = X_train[col].columns\n",
    "vif['VIF'] = [variance_inflation_factor(X_train[col].values, i) for i in range(X_train[col].shape[1])]\n",
    "vif['VIF'] = round(vif['VIF'], 2)\n",
    "vif = vif.sort_values(by = \"VIF\", ascending = False)\n",
    "vif"
   ]
  },
  {
   "cell_type": "code",
   "execution_count": 39,
   "id": "5a7ac4b1",
   "metadata": {},
   "outputs": [],
   "source": [
    "## We see that VIF is upto the mark we need . So we can proceed further."
   ]
  },
  {
   "cell_type": "markdown",
   "id": "b8853903",
   "metadata": {},
   "source": [
    "Metrics beyond simply accuracy"
   ]
  },
  {
   "cell_type": "code",
   "execution_count": 40,
   "id": "43bb91b4",
   "metadata": {},
   "outputs": [],
   "source": [
    "TP = confusion[1,1] # true positive \n",
    "TN = confusion[0,0] # true negatives\n",
    "FP = confusion[0,1] # false positives\n",
    "FN = confusion[1,0] # false negatives"
   ]
  },
  {
   "cell_type": "code",
   "execution_count": 41,
   "id": "65e43342",
   "metadata": {},
   "outputs": [
    {
     "data": {
      "text/plain": [
       "0.7377049180327869"
      ]
     },
     "execution_count": 41,
     "metadata": {},
     "output_type": "execute_result"
    }
   ],
   "source": [
    "# Let's see the sensitivity of our logistic regression model\n",
    "TP / float(TP+FN)"
   ]
  },
  {
   "cell_type": "code",
   "execution_count": 42,
   "id": "360210da",
   "metadata": {},
   "outputs": [
    {
     "name": "stdout",
     "output_type": "stream",
     "text": [
      "0.057692307692307696\n"
     ]
    }
   ],
   "source": [
    "# Calculate false postive rate - predicting churn when customer does not have churned\n",
    "print(FP/ float(TN+FP))"
   ]
  },
  {
   "cell_type": "code",
   "execution_count": 43,
   "id": "2090f302",
   "metadata": {},
   "outputs": [
    {
     "data": {
      "text/plain": [
       "0.9423076923076923"
      ]
     },
     "execution_count": 43,
     "metadata": {},
     "output_type": "execute_result"
    }
   ],
   "source": [
    "# Let us calculate specificity\n",
    "TN / float(TN+FP)"
   ]
  },
  {
   "cell_type": "code",
   "execution_count": 44,
   "id": "05b5a4ac",
   "metadata": {},
   "outputs": [
    {
     "name": "stdout",
     "output_type": "stream",
     "text": [
      "0.8333333333333334\n"
     ]
    }
   ],
   "source": [
    "# positive predictive value \n",
    "print (TP / float(TP+FP))"
   ]
  },
  {
   "cell_type": "code",
   "execution_count": 45,
   "id": "9d6b2b27",
   "metadata": {},
   "outputs": [
    {
     "name": "stdout",
     "output_type": "stream",
     "text": [
      "0.901840490797546\n"
     ]
    }
   ],
   "source": [
    "# Negative predictive value\n",
    "print (TN / float(TN+ FN))"
   ]
  },
  {
   "cell_type": "markdown",
   "id": "b04714d7",
   "metadata": {},
   "source": [
    "# Step 14: Plotting the ROC Curve\n",
    "An ROC curve demonstrates several things:\n",
    "\n",
    "It shows the tradeoff between sensitivity and specificity (any increase in sensitivity will be accompanied by a decrease in specificity).\n",
    "The closer the curve follows the left-hand border and then the top border of the ROC space, the more accurate the test.\n",
    "The closer the curve comes to the 45-degree diagonal of the ROC space, the less accurate the test.\n",
    "\n"
   ]
  },
  {
   "cell_type": "code",
   "execution_count": 46,
   "id": "0a0d08e6",
   "metadata": {},
   "outputs": [],
   "source": [
    "def draw_roc( actual, probs ):\n",
    "    fpr, tpr, thresholds = metrics.roc_curve( actual, probs,\n",
    "                                              drop_intermediate = False )\n",
    "    auc_score = metrics.roc_auc_score( actual, probs )\n",
    "    plt.figure(figsize=(5, 5))\n",
    "    plt.plot( fpr, tpr, label='ROC curve (area = %0.2f)' % auc_score )\n",
    "    plt.plot([0, 1], [0, 1], 'k--')\n",
    "    plt.xlim([0.0, 1.0])\n",
    "    plt.ylim([0.0, 1.05])\n",
    "    plt.xlabel('False Positive Rate or [1 - True Negative Rate]')\n",
    "    plt.ylabel('True Positive Rate')\n",
    "    plt.title('Receiver operating characteristic example')\n",
    "    plt.legend(loc=\"lower right\")\n",
    "    plt.show()\n",
    "\n",
    "    return None"
   ]
  },
  {
   "cell_type": "code",
   "execution_count": 47,
   "id": "7b7c60eb",
   "metadata": {},
   "outputs": [],
   "source": [
    "fpr, tpr, thresholds = metrics.roc_curve( y_train_pred_final.Event_Death, y_train_pred_final.Event_Death_Prob, drop_intermediate = False )"
   ]
  },
  {
   "cell_type": "code",
   "execution_count": 48,
   "id": "85689604",
   "metadata": {},
   "outputs": [
    {
     "data": {
      "image/png": "[encoded data removed]",
      "text/plain": [
       "<Figure size 360x360 with 1 Axes>"
      ]
     },
     "metadata": {
      "needs_background": "light"
     },
     "output_type": "display_data"
    }
   ],
   "source": [
    "draw_roc(y_train_pred_final.Event_Death, y_train_pred_final.Event_Death_Prob)"
   ]
  },
  {
   "cell_type": "code",
   "execution_count": 49,
   "id": "3a3cc2fe",
   "metadata": {},
   "outputs": [
    {
     "data": {
      "text/html": [
       "<div>\n",
       "<style scoped>\n",
       "    .dataframe tbody tr th:only-of-type {\n",
       "        vertical-align: middle;\n",
       "    }\n",
       "\n",
       "    .dataframe tbody tr th {\n",
       "        vertical-align: top;\n",
       "    }\n",
       "\n",
       "    .dataframe thead th {\n",
       "        text-align: right;\n",
       "    }\n",
       "</style>\n",
       "<table border=\"1\" class=\"dataframe\">\n",
       "  <thead>\n",
       "    <tr style=\"text-align: right;\">\n",
       "      <th></th>\n",
       "      <th>Event_Death</th>\n",
       "      <th>Event_Death_Prob</th>\n",
       "      <th>Patient_ID</th>\n",
       "      <th>Event_Death_Predicted</th>\n",
       "      <th>0.0</th>\n",
       "      <th>0.1</th>\n",
       "      <th>0.2</th>\n",
       "      <th>0.3</th>\n",
       "      <th>0.4</th>\n",
       "      <th>0.5</th>\n",
       "      <th>0.6</th>\n",
       "      <th>0.7</th>\n",
       "      <th>0.8</th>\n",
       "      <th>0.9</th>\n",
       "    </tr>\n",
       "  </thead>\n",
       "  <tbody>\n",
       "    <tr>\n",
       "      <th>0</th>\n",
       "      <td>1</td>\n",
       "      <td>0.634695</td>\n",
       "      <td>134</td>\n",
       "      <td>1</td>\n",
       "      <td>1</td>\n",
       "      <td>1</td>\n",
       "      <td>1</td>\n",
       "      <td>1</td>\n",
       "      <td>1</td>\n",
       "      <td>1</td>\n",
       "      <td>1</td>\n",
       "      <td>0</td>\n",
       "      <td>0</td>\n",
       "      <td>0</td>\n",
       "    </tr>\n",
       "    <tr>\n",
       "      <th>1</th>\n",
       "      <td>0</td>\n",
       "      <td>0.237069</td>\n",
       "      <td>220</td>\n",
       "      <td>0</td>\n",
       "      <td>1</td>\n",
       "      <td>1</td>\n",
       "      <td>1</td>\n",
       "      <td>0</td>\n",
       "      <td>0</td>\n",
       "      <td>0</td>\n",
       "      <td>0</td>\n",
       "      <td>0</td>\n",
       "      <td>0</td>\n",
       "      <td>0</td>\n",
       "    </tr>\n",
       "    <tr>\n",
       "      <th>2</th>\n",
       "      <td>1</td>\n",
       "      <td>0.989245</td>\n",
       "      <td>47</td>\n",
       "      <td>1</td>\n",
       "      <td>1</td>\n",
       "      <td>1</td>\n",
       "      <td>1</td>\n",
       "      <td>1</td>\n",
       "      <td>1</td>\n",
       "      <td>1</td>\n",
       "      <td>1</td>\n",
       "      <td>1</td>\n",
       "      <td>1</td>\n",
       "      <td>1</td>\n",
       "    </tr>\n",
       "    <tr>\n",
       "      <th>3</th>\n",
       "      <td>1</td>\n",
       "      <td>0.958904</td>\n",
       "      <td>121</td>\n",
       "      <td>1</td>\n",
       "      <td>1</td>\n",
       "      <td>1</td>\n",
       "      <td>1</td>\n",
       "      <td>1</td>\n",
       "      <td>1</td>\n",
       "      <td>1</td>\n",
       "      <td>1</td>\n",
       "      <td>1</td>\n",
       "      <td>1</td>\n",
       "      <td>1</td>\n",
       "    </tr>\n",
       "    <tr>\n",
       "      <th>4</th>\n",
       "      <td>0</td>\n",
       "      <td>0.000588</td>\n",
       "      <td>239</td>\n",
       "      <td>0</td>\n",
       "      <td>1</td>\n",
       "      <td>0</td>\n",
       "      <td>0</td>\n",
       "      <td>0</td>\n",
       "      <td>0</td>\n",
       "      <td>0</td>\n",
       "      <td>0</td>\n",
       "      <td>0</td>\n",
       "      <td>0</td>\n",
       "      <td>0</td>\n",
       "    </tr>\n",
       "  </tbody>\n",
       "</table>\n",
       "</div>"
      ],
      "text/plain": [
       "   Event_Death  Event_Death_Prob  Patient_ID  Event_Death_Predicted  0.0  0.1  \\\n",
       "0            1          0.634695         134                      1    1    1   \n",
       "1            0          0.237069         220                      0    1    1   \n",
       "2            1          0.989245          47                      1    1    1   \n",
       "3            1          0.958904         121                      1    1    1   \n",
       "4            0          0.000588         239                      0    1    0   \n",
       "\n",
       "   0.2  0.3  0.4  0.5  0.6  0.7  0.8  0.9  \n",
       "0    1    1    1    1    1    0    0    0  \n",
       "1    1    0    0    0    0    0    0    0  \n",
       "2    1    1    1    1    1    1    1    1  \n",
       "3    1    1    1    1    1    1    1    1  \n",
       "4    0    0    0    0    0    0    0    0  "
      ]
     },
     "execution_count": 49,
     "metadata": {},
     "output_type": "execute_result"
    }
   ],
   "source": [
    "# Step 10: Finding Optimal Cutoff Point\n",
    "# Optimal cutoff probability is that prob where we get balanced sensitivity and specificity\n",
    "\n",
    "# Let's create columns with different probability cutoffs \n",
    "numbers = [float(x)/10 for x in range(10)]\n",
    "for i in numbers:\n",
    "    y_train_pred_final[i]= y_train_pred_final.Event_Death_Prob.map(lambda x: 1 if x > i else 0)\n",
    "y_train_pred_final.head()"
   ]
  },
  {
   "cell_type": "markdown",
   "id": "239d4c45",
   "metadata": {},
   "source": [
    "## Step 15: Now let's calculate accuracy sensitivity and specificity\n"
   ]
  },
  {
   "cell_type": "code",
   "execution_count": 50,
   "id": "a2b0a9d6",
   "metadata": {},
   "outputs": [
    {
     "name": "stdout",
     "output_type": "stream",
     "text": [
      "     prob  accuracy     sensi     speci\n",
      "0.0   0.0  0.281106  1.000000  0.000000\n",
      "0.1   0.1  0.714286  0.934426  0.628205\n",
      "0.2   0.2  0.838710  0.901639  0.814103\n",
      "0.3   0.3  0.857143  0.819672  0.871795\n",
      "0.4   0.4  0.875576  0.803279  0.903846\n",
      "0.5   0.5  0.884793  0.737705  0.942308\n",
      "0.6   0.6  0.889401  0.704918  0.961538\n",
      "0.7   0.7  0.870968  0.606557  0.974359\n",
      "0.8   0.8  0.857143  0.524590  0.987179\n",
      "0.9   0.9  0.788018  0.262295  0.993590\n"
     ]
    }
   ],
   "source": [
    "# Now let's calculate accuracy sensitivity and specificity for various probability cutoffs.\n",
    "\n",
    "\n",
    "# TP = confusion[1,1] # true positive \n",
    "# TN = confusion[0,0] # true negatives\n",
    "# FP = confusion[0,1] # false positives\n",
    "# FN = confusion[1,0] # false negatives\n",
    "\n",
    "cutoff_df = pd.DataFrame( columns = ['prob','accuracy','sensi','speci'])\n",
    "from sklearn.metrics import confusion_matrix\n",
    "num = [0.0,0.1,0.2,0.3,0.4,0.5,0.6,0.7,0.8,0.9]\n",
    "for i in num:\n",
    "    cm1 = metrics.confusion_matrix(y_train_pred_final.Event_Death, y_train_pred_final[i] )\n",
    "    total1=sum(sum(cm1))\n",
    "    accuracy = (cm1[0,0]+cm1[1,1])/total1\n",
    "    \n",
    "    speci = cm1[0,0]/(cm1[0,0]+cm1[0,1])\n",
    "    sensi = cm1[1,1]/(cm1[1,0]+cm1[1,1])\n",
    "    cutoff_df.loc[i] =[ i ,accuracy,sensi,speci]\n",
    "print(cutoff_df)"
   ]
  },
  {
   "cell_type": "code",
   "execution_count": 51,
   "id": "6caef5c5",
   "metadata": {},
   "outputs": [
    {
     "data": {
      "image/png": "[encoded data removed]",
      "text/plain": [
       "<Figure size 432x288 with 1 Axes>"
      ]
     },
     "metadata": {
      "needs_background": "light"
     },
     "output_type": "display_data"
    }
   ],
   "source": [
    "# Let's plot accuracy sensitivity and specificity for various probabilities.\n",
    "cutoff_df.plot.line(x='prob', y=['accuracy','sensi','speci'])\n",
    "plt.show()"
   ]
  },
  {
   "cell_type": "markdown",
   "id": "c17c0b53",
   "metadata": {},
   "source": [
    "From the curve above, 0.3 is the optimum point to take it as a cutoff probability."
   ]
  },
  {
   "cell_type": "code",
   "execution_count": 52,
   "id": "829dd441",
   "metadata": {},
   "outputs": [
    {
     "data": {
      "text/html": [
       "<div>\n",
       "<style scoped>\n",
       "    .dataframe tbody tr th:only-of-type {\n",
       "        vertical-align: middle;\n",
       "    }\n",
       "\n",
       "    .dataframe tbody tr th {\n",
       "        vertical-align: top;\n",
       "    }\n",
       "\n",
       "    .dataframe thead th {\n",
       "        text-align: right;\n",
       "    }\n",
       "</style>\n",
       "<table border=\"1\" class=\"dataframe\">\n",
       "  <thead>\n",
       "    <tr style=\"text-align: right;\">\n",
       "      <th></th>\n",
       "      <th>Event_Death</th>\n",
       "      <th>Event_Death_Prob</th>\n",
       "      <th>Patient_ID</th>\n",
       "      <th>Event_Death_Predicted</th>\n",
       "      <th>0.0</th>\n",
       "      <th>0.1</th>\n",
       "      <th>0.2</th>\n",
       "      <th>0.3</th>\n",
       "      <th>0.4</th>\n",
       "      <th>0.5</th>\n",
       "      <th>0.6</th>\n",
       "      <th>0.7</th>\n",
       "      <th>0.8</th>\n",
       "      <th>0.9</th>\n",
       "      <th>Final_Predicted</th>\n",
       "    </tr>\n",
       "  </thead>\n",
       "  <tbody>\n",
       "    <tr>\n",
       "      <th>0</th>\n",
       "      <td>1</td>\n",
       "      <td>0.634695</td>\n",
       "      <td>134</td>\n",
       "      <td>1</td>\n",
       "      <td>1</td>\n",
       "      <td>1</td>\n",
       "      <td>1</td>\n",
       "      <td>1</td>\n",
       "      <td>1</td>\n",
       "      <td>1</td>\n",
       "      <td>1</td>\n",
       "      <td>0</td>\n",
       "      <td>0</td>\n",
       "      <td>0</td>\n",
       "      <td>1</td>\n",
       "    </tr>\n",
       "    <tr>\n",
       "      <th>1</th>\n",
       "      <td>0</td>\n",
       "      <td>0.237069</td>\n",
       "      <td>220</td>\n",
       "      <td>0</td>\n",
       "      <td>1</td>\n",
       "      <td>1</td>\n",
       "      <td>1</td>\n",
       "      <td>0</td>\n",
       "      <td>0</td>\n",
       "      <td>0</td>\n",
       "      <td>0</td>\n",
       "      <td>0</td>\n",
       "      <td>0</td>\n",
       "      <td>0</td>\n",
       "      <td>0</td>\n",
       "    </tr>\n",
       "    <tr>\n",
       "      <th>2</th>\n",
       "      <td>1</td>\n",
       "      <td>0.989245</td>\n",
       "      <td>47</td>\n",
       "      <td>1</td>\n",
       "      <td>1</td>\n",
       "      <td>1</td>\n",
       "      <td>1</td>\n",
       "      <td>1</td>\n",
       "      <td>1</td>\n",
       "      <td>1</td>\n",
       "      <td>1</td>\n",
       "      <td>1</td>\n",
       "      <td>1</td>\n",
       "      <td>1</td>\n",
       "      <td>1</td>\n",
       "    </tr>\n",
       "    <tr>\n",
       "      <th>3</th>\n",
       "      <td>1</td>\n",
       "      <td>0.958904</td>\n",
       "      <td>121</td>\n",
       "      <td>1</td>\n",
       "      <td>1</td>\n",
       "      <td>1</td>\n",
       "      <td>1</td>\n",
       "      <td>1</td>\n",
       "      <td>1</td>\n",
       "      <td>1</td>\n",
       "      <td>1</td>\n",
       "      <td>1</td>\n",
       "      <td>1</td>\n",
       "      <td>1</td>\n",
       "      <td>1</td>\n",
       "    </tr>\n",
       "    <tr>\n",
       "      <th>4</th>\n",
       "      <td>0</td>\n",
       "      <td>0.000588</td>\n",
       "      <td>239</td>\n",
       "      <td>0</td>\n",
       "      <td>1</td>\n",
       "      <td>0</td>\n",
       "      <td>0</td>\n",
       "      <td>0</td>\n",
       "      <td>0</td>\n",
       "      <td>0</td>\n",
       "      <td>0</td>\n",
       "      <td>0</td>\n",
       "      <td>0</td>\n",
       "      <td>0</td>\n",
       "      <td>0</td>\n",
       "    </tr>\n",
       "  </tbody>\n",
       "</table>\n",
       "</div>"
      ],
      "text/plain": [
       "   Event_Death  Event_Death_Prob  Patient_ID  Event_Death_Predicted  0.0  0.1  \\\n",
       "0            1          0.634695         134                      1    1    1   \n",
       "1            0          0.237069         220                      0    1    1   \n",
       "2            1          0.989245          47                      1    1    1   \n",
       "3            1          0.958904         121                      1    1    1   \n",
       "4            0          0.000588         239                      0    1    0   \n",
       "\n",
       "   0.2  0.3  0.4  0.5  0.6  0.7  0.8  0.9  Final_Predicted  \n",
       "0    1    1    1    1    1    0    0    0                1  \n",
       "1    1    0    0    0    0    0    0    0                0  \n",
       "2    1    1    1    1    1    1    1    1                1  \n",
       "3    1    1    1    1    1    1    1    1                1  \n",
       "4    0    0    0    0    0    0    0    0                0  "
      ]
     },
     "execution_count": 52,
     "metadata": {},
     "output_type": "execute_result"
    }
   ],
   "source": [
    "y_train_pred_final[\"Final_Predicted\"] = y_train_pred_final.Event_Death_Prob.map(lambda x: 1 if x > 0.3 else 0)\n",
    "\n",
    "# Let's see the head\n",
    "y_train_pred_final.head()"
   ]
  },
  {
   "cell_type": "code",
   "execution_count": 53,
   "id": "88089bc9",
   "metadata": {},
   "outputs": [
    {
     "name": "stdout",
     "output_type": "stream",
     "text": [
      "[[136  20]\n",
      " [ 11  50]]\n"
     ]
    }
   ],
   "source": [
    "# Confusion matrix \n",
    "confusion = metrics.confusion_matrix(y_train_pred_final.Event_Death\t, y_train_pred_final.Final_Predicted)\n",
    "print(confusion)"
   ]
  },
  {
   "cell_type": "code",
   "execution_count": 54,
   "id": "5f42a4ae",
   "metadata": {},
   "outputs": [
    {
     "name": "stdout",
     "output_type": "stream",
     "text": [
      "0.8571428571428571\n"
     ]
    }
   ],
   "source": [
    "# Let's check the overall accuracy.\n",
    "print(metrics.accuracy_score(y_train_pred_final.Event_Death\t, y_train_pred_final.Final_Predicted))"
   ]
  },
  {
   "cell_type": "code",
   "execution_count": 55,
   "id": "d2af775f",
   "metadata": {},
   "outputs": [
    {
     "data": {
      "text/plain": [
       "array([[136,  20],\n",
       "       [ 11,  50]])"
      ]
     },
     "execution_count": 55,
     "metadata": {},
     "output_type": "execute_result"
    }
   ],
   "source": [
    "confusion2 = metrics.confusion_matrix(y_train_pred_final.Event_Death, y_train_pred_final.Final_Predicted )\n",
    "confusion2"
   ]
  },
  {
   "cell_type": "code",
   "execution_count": 56,
   "id": "3995e94e",
   "metadata": {},
   "outputs": [],
   "source": [
    "TP = confusion2[1,1] # true positive \n",
    "TN = confusion2[0,0] # true negatives\n",
    "FP = confusion2[0,1] # false positives\n",
    "FN = confusion2[1,0] # false negatives"
   ]
  },
  {
   "cell_type": "code",
   "execution_count": 57,
   "id": "5c321302",
   "metadata": {},
   "outputs": [
    {
     "data": {
      "text/plain": [
       "0.819672131147541"
      ]
     },
     "execution_count": 57,
     "metadata": {},
     "output_type": "execute_result"
    }
   ],
   "source": [
    "# Let's see the sensitivity of our logistic regression model\n",
    "TP / float(TP+FN)"
   ]
  },
  {
   "cell_type": "code",
   "execution_count": 58,
   "id": "3e205e29",
   "metadata": {},
   "outputs": [
    {
     "data": {
      "text/plain": [
       "0.8717948717948718"
      ]
     },
     "execution_count": 58,
     "metadata": {},
     "output_type": "execute_result"
    }
   ],
   "source": [
    "# Let us calculate specificity\n",
    "TN / float(TN+FP)"
   ]
  },
  {
   "cell_type": "code",
   "execution_count": 59,
   "id": "b3255250",
   "metadata": {},
   "outputs": [
    {
     "name": "stdout",
     "output_type": "stream",
     "text": [
      "0.1282051282051282\n"
     ]
    }
   ],
   "source": [
    "# Calculate false postive rate - predicting churn when customer does not have churned\n",
    "print(FP/ float(TN+FP))"
   ]
  },
  {
   "cell_type": "code",
   "execution_count": 60,
   "id": "49ef7788",
   "metadata": {},
   "outputs": [
    {
     "name": "stdout",
     "output_type": "stream",
     "text": [
      "0.7142857142857143\n"
     ]
    }
   ],
   "source": [
    "# Positive predictive value \n",
    "print (TP / float(TP+FP))"
   ]
  },
  {
   "cell_type": "code",
   "execution_count": 61,
   "id": "db1308cb",
   "metadata": {
    "scrolled": true
   },
   "outputs": [
    {
     "name": "stdout",
     "output_type": "stream",
     "text": [
      "0.9251700680272109\n"
     ]
    }
   ],
   "source": [
    "# Negative predictive value\n",
    "print (TN / float(TN+ FN))"
   ]
  },
  {
   "cell_type": "markdown",
   "id": "1a46dcaa",
   "metadata": {},
   "source": [
    "## Step 16: Making predictions on the test set"
   ]
  },
  {
   "cell_type": "code",
   "execution_count": 62,
   "id": "67691673",
   "metadata": {},
   "outputs": [
    {
     "data": {
      "text/html": [
       "<div>\n",
       "<style scoped>\n",
       "    .dataframe tbody tr th:only-of-type {\n",
       "        vertical-align: middle;\n",
       "    }\n",
       "\n",
       "    .dataframe tbody tr th {\n",
       "        vertical-align: top;\n",
       "    }\n",
       "\n",
       "    .dataframe thead th {\n",
       "        text-align: right;\n",
       "    }\n",
       "</style>\n",
       "<table border=\"1\" class=\"dataframe\">\n",
       "  <thead>\n",
       "    <tr style=\"text-align: right;\">\n",
       "      <th></th>\n",
       "      <th>timerecurrence</th>\n",
       "      <th>hormonal</th>\n",
       "      <th>diam</th>\n",
       "      <th>grade</th>\n",
       "      <th>lymphinfil</th>\n",
       "    </tr>\n",
       "    <tr>\n",
       "      <th>ID</th>\n",
       "      <th></th>\n",
       "      <th></th>\n",
       "      <th></th>\n",
       "      <th></th>\n",
       "      <th></th>\n",
       "    </tr>\n",
       "  </thead>\n",
       "  <tbody>\n",
       "    <tr>\n",
       "      <th>78</th>\n",
       "      <td>1.259860</td>\n",
       "      <td>-0.390567</td>\n",
       "      <td>-0.291161</td>\n",
       "      <td>-0.161582</td>\n",
       "      <td>-0.438313</td>\n",
       "    </tr>\n",
       "    <tr>\n",
       "      <th>164</th>\n",
       "      <td>-0.283794</td>\n",
       "      <td>-0.390567</td>\n",
       "      <td>2.241262</td>\n",
       "      <td>-0.161582</td>\n",
       "      <td>-0.438313</td>\n",
       "    </tr>\n",
       "    <tr>\n",
       "      <th>251</th>\n",
       "      <td>1.586187</td>\n",
       "      <td>-0.390567</td>\n",
       "      <td>0.859941</td>\n",
       "      <td>-1.417307</td>\n",
       "      <td>-0.438313</td>\n",
       "    </tr>\n",
       "    <tr>\n",
       "      <th>158</th>\n",
       "      <td>0.021523</td>\n",
       "      <td>2.560382</td>\n",
       "      <td>-0.291161</td>\n",
       "      <td>-0.161582</td>\n",
       "      <td>-0.438313</td>\n",
       "    </tr>\n",
       "    <tr>\n",
       "      <th>219</th>\n",
       "      <td>-0.061208</td>\n",
       "      <td>-0.390567</td>\n",
       "      <td>0.284390</td>\n",
       "      <td>-0.161582</td>\n",
       "      <td>-0.438313</td>\n",
       "    </tr>\n",
       "  </tbody>\n",
       "</table>\n",
       "</div>"
      ],
      "text/plain": [
       "     timerecurrence  hormonal      diam     grade  lymphinfil\n",
       "ID                                                           \n",
       "78         1.259860 -0.390567 -0.291161 -0.161582   -0.438313\n",
       "164       -0.283794 -0.390567  2.241262 -0.161582   -0.438313\n",
       "251        1.586187 -0.390567  0.859941 -1.417307   -0.438313\n",
       "158        0.021523  2.560382 -0.291161 -0.161582   -0.438313\n",
       "219       -0.061208 -0.390567  0.284390 -0.161582   -0.438313"
      ]
     },
     "execution_count": 62,
     "metadata": {},
     "output_type": "execute_result"
    }
   ],
   "source": [
    "X_test = X_test[col]\n",
    "X_test.head()"
   ]
  },
  {
   "cell_type": "code",
   "execution_count": 63,
   "id": "6c65099a",
   "metadata": {},
   "outputs": [
    {
     "data": {
      "text/plain": [
       "ID\n",
       "78     0.009999\n",
       "164    0.564829\n",
       "251    0.002926\n",
       "158    0.053554\n",
       "219    0.217022\n",
       "148    0.762000\n",
       "147    0.954099\n",
       "303    0.965483\n",
       "276    0.950045\n",
       "94     0.075318\n",
       "dtype: float64"
      ]
     },
     "execution_count": 63,
     "metadata": {},
     "output_type": "execute_result"
    }
   ],
   "source": [
    "X_test_sm = sm.add_constant(X_test)\n",
    "y_test_pred = res.predict(X_test_sm)\n",
    "y_test_pred[:10]"
   ]
  },
  {
   "cell_type": "code",
   "execution_count": 64,
   "id": "36f4270c",
   "metadata": {},
   "outputs": [
    {
     "data": {
      "text/html": [
       "<div>\n",
       "<style scoped>\n",
       "    .dataframe tbody tr th:only-of-type {\n",
       "        vertical-align: middle;\n",
       "    }\n",
       "\n",
       "    .dataframe tbody tr th {\n",
       "        vertical-align: top;\n",
       "    }\n",
       "\n",
       "    .dataframe thead th {\n",
       "        text-align: right;\n",
       "    }\n",
       "</style>\n",
       "<table border=\"1\" class=\"dataframe\">\n",
       "  <thead>\n",
       "    <tr style=\"text-align: right;\">\n",
       "      <th></th>\n",
       "      <th>0</th>\n",
       "    </tr>\n",
       "    <tr>\n",
       "      <th>ID</th>\n",
       "      <th></th>\n",
       "    </tr>\n",
       "  </thead>\n",
       "  <tbody>\n",
       "    <tr>\n",
       "      <th>78</th>\n",
       "      <td>0.009999</td>\n",
       "    </tr>\n",
       "    <tr>\n",
       "      <th>164</th>\n",
       "      <td>0.564829</td>\n",
       "    </tr>\n",
       "    <tr>\n",
       "      <th>251</th>\n",
       "      <td>0.002926</td>\n",
       "    </tr>\n",
       "    <tr>\n",
       "      <th>158</th>\n",
       "      <td>0.053554</td>\n",
       "    </tr>\n",
       "    <tr>\n",
       "      <th>219</th>\n",
       "      <td>0.217022</td>\n",
       "    </tr>\n",
       "  </tbody>\n",
       "</table>\n",
       "</div>"
      ],
      "text/plain": [
       "            0\n",
       "ID           \n",
       "78   0.009999\n",
       "164  0.564829\n",
       "251  0.002926\n",
       "158  0.053554\n",
       "219  0.217022"
      ]
     },
     "execution_count": 64,
     "metadata": {},
     "output_type": "execute_result"
    }
   ],
   "source": [
    "# Converting y_pred to a dataframe which is an array\n",
    "y_pred_1 = pd.DataFrame(y_test_pred)\n",
    "# Let's see the head\n",
    "y_pred_1.head()"
   ]
  },
  {
   "cell_type": "code",
   "execution_count": 65,
   "id": "f027902d",
   "metadata": {},
   "outputs": [
    {
     "data": {
      "text/html": [
       "<div>\n",
       "<style scoped>\n",
       "    .dataframe tbody tr th:only-of-type {\n",
       "        vertical-align: middle;\n",
       "    }\n",
       "\n",
       "    .dataframe tbody tr th {\n",
       "        vertical-align: top;\n",
       "    }\n",
       "\n",
       "    .dataframe thead th {\n",
       "        text-align: right;\n",
       "    }\n",
       "</style>\n",
       "<table border=\"1\" class=\"dataframe\">\n",
       "  <thead>\n",
       "    <tr style=\"text-align: right;\">\n",
       "      <th></th>\n",
       "      <th>eventdeath</th>\n",
       "    </tr>\n",
       "    <tr>\n",
       "      <th>ID</th>\n",
       "      <th></th>\n",
       "    </tr>\n",
       "  </thead>\n",
       "  <tbody>\n",
       "    <tr>\n",
       "      <th>78</th>\n",
       "      <td>0</td>\n",
       "    </tr>\n",
       "    <tr>\n",
       "      <th>164</th>\n",
       "      <td>0</td>\n",
       "    </tr>\n",
       "    <tr>\n",
       "      <th>251</th>\n",
       "      <td>0</td>\n",
       "    </tr>\n",
       "    <tr>\n",
       "      <th>158</th>\n",
       "      <td>0</td>\n",
       "    </tr>\n",
       "    <tr>\n",
       "      <th>219</th>\n",
       "      <td>0</td>\n",
       "    </tr>\n",
       "  </tbody>\n",
       "</table>\n",
       "</div>"
      ],
      "text/plain": [
       "     eventdeath\n",
       "ID             \n",
       "78            0\n",
       "164           0\n",
       "251           0\n",
       "158           0\n",
       "219           0"
      ]
     },
     "execution_count": 65,
     "metadata": {},
     "output_type": "execute_result"
    }
   ],
   "source": [
    "# Converting y_test to dataframe\n",
    "y_test_df = pd.DataFrame(y_test)\n",
    "y_test_df.head()"
   ]
  },
  {
   "cell_type": "code",
   "execution_count": 66,
   "id": "946dea04",
   "metadata": {},
   "outputs": [
    {
     "data": {
      "text/html": [
       "<div>\n",
       "<style scoped>\n",
       "    .dataframe tbody tr th:only-of-type {\n",
       "        vertical-align: middle;\n",
       "    }\n",
       "\n",
       "    .dataframe tbody tr th {\n",
       "        vertical-align: top;\n",
       "    }\n",
       "\n",
       "    .dataframe thead th {\n",
       "        text-align: right;\n",
       "    }\n",
       "</style>\n",
       "<table border=\"1\" class=\"dataframe\">\n",
       "  <thead>\n",
       "    <tr style=\"text-align: right;\">\n",
       "      <th></th>\n",
       "      <th>eventdeath</th>\n",
       "      <th>0</th>\n",
       "    </tr>\n",
       "    <tr>\n",
       "      <th>ID</th>\n",
       "      <th></th>\n",
       "      <th></th>\n",
       "    </tr>\n",
       "  </thead>\n",
       "  <tbody>\n",
       "    <tr>\n",
       "      <th>78</th>\n",
       "      <td>0</td>\n",
       "      <td>0.009999</td>\n",
       "    </tr>\n",
       "    <tr>\n",
       "      <th>164</th>\n",
       "      <td>0</td>\n",
       "      <td>0.564829</td>\n",
       "    </tr>\n",
       "    <tr>\n",
       "      <th>251</th>\n",
       "      <td>0</td>\n",
       "      <td>0.002926</td>\n",
       "    </tr>\n",
       "    <tr>\n",
       "      <th>158</th>\n",
       "      <td>0</td>\n",
       "      <td>0.053554</td>\n",
       "    </tr>\n",
       "    <tr>\n",
       "      <th>219</th>\n",
       "      <td>0</td>\n",
       "      <td>0.217022</td>\n",
       "    </tr>\n",
       "  </tbody>\n",
       "</table>\n",
       "</div>"
      ],
      "text/plain": [
       "     eventdeath         0\n",
       "ID                       \n",
       "78            0  0.009999\n",
       "164           0  0.564829\n",
       "251           0  0.002926\n",
       "158           0  0.053554\n",
       "219           0  0.217022"
      ]
     },
     "execution_count": 66,
     "metadata": {},
     "output_type": "execute_result"
    }
   ],
   "source": [
    "# Appending y_test_df and y_pred_1\n",
    "y_pred_final = pd.concat([y_test_df, y_pred_1],axis=1)\n",
    "y_pred_final.head()"
   ]
  },
  {
   "cell_type": "code",
   "execution_count": 67,
   "id": "df02dea0",
   "metadata": {},
   "outputs": [
    {
     "data": {
      "text/html": [
       "<div>\n",
       "<style scoped>\n",
       "    .dataframe tbody tr th:only-of-type {\n",
       "        vertical-align: middle;\n",
       "    }\n",
       "\n",
       "    .dataframe tbody tr th {\n",
       "        vertical-align: top;\n",
       "    }\n",
       "\n",
       "    .dataframe thead th {\n",
       "        text-align: right;\n",
       "    }\n",
       "</style>\n",
       "<table border=\"1\" class=\"dataframe\">\n",
       "  <thead>\n",
       "    <tr style=\"text-align: right;\">\n",
       "      <th></th>\n",
       "      <th>eventdeath</th>\n",
       "      <th>Event_Death_Prob</th>\n",
       "    </tr>\n",
       "    <tr>\n",
       "      <th>ID</th>\n",
       "      <th></th>\n",
       "      <th></th>\n",
       "    </tr>\n",
       "  </thead>\n",
       "  <tbody>\n",
       "    <tr>\n",
       "      <th>78</th>\n",
       "      <td>0</td>\n",
       "      <td>0.009999</td>\n",
       "    </tr>\n",
       "    <tr>\n",
       "      <th>164</th>\n",
       "      <td>0</td>\n",
       "      <td>0.564829</td>\n",
       "    </tr>\n",
       "    <tr>\n",
       "      <th>251</th>\n",
       "      <td>0</td>\n",
       "      <td>0.002926</td>\n",
       "    </tr>\n",
       "    <tr>\n",
       "      <th>158</th>\n",
       "      <td>0</td>\n",
       "      <td>0.053554</td>\n",
       "    </tr>\n",
       "    <tr>\n",
       "      <th>219</th>\n",
       "      <td>0</td>\n",
       "      <td>0.217022</td>\n",
       "    </tr>\n",
       "  </tbody>\n",
       "</table>\n",
       "</div>"
      ],
      "text/plain": [
       "     eventdeath  Event_Death_Prob\n",
       "ID                               \n",
       "78            0          0.009999\n",
       "164           0          0.564829\n",
       "251           0          0.002926\n",
       "158           0          0.053554\n",
       "219           0          0.217022"
      ]
     },
     "execution_count": 67,
     "metadata": {},
     "output_type": "execute_result"
    }
   ],
   "source": [
    "# Renaming the column \n",
    "y_pred_final= y_pred_final.rename(columns={ 0 : 'Event_Death_Prob'})\n",
    "y_pred_final.head()"
   ]
  },
  {
   "cell_type": "code",
   "execution_count": 68,
   "id": "19e11d32",
   "metadata": {},
   "outputs": [
    {
     "data": {
      "text/html": [
       "<div>\n",
       "<style scoped>\n",
       "    .dataframe tbody tr th:only-of-type {\n",
       "        vertical-align: middle;\n",
       "    }\n",
       "\n",
       "    .dataframe tbody tr th {\n",
       "        vertical-align: top;\n",
       "    }\n",
       "\n",
       "    .dataframe thead th {\n",
       "        text-align: right;\n",
       "    }\n",
       "</style>\n",
       "<table border=\"1\" class=\"dataframe\">\n",
       "  <thead>\n",
       "    <tr style=\"text-align: right;\">\n",
       "      <th></th>\n",
       "      <th>Patient_ID</th>\n",
       "      <th>eventdeath</th>\n",
       "      <th>Event_Death_Prob</th>\n",
       "    </tr>\n",
       "  </thead>\n",
       "  <tbody>\n",
       "    <tr>\n",
       "      <th>0</th>\n",
       "      <td>78</td>\n",
       "      <td>0</td>\n",
       "      <td>0.009999</td>\n",
       "    </tr>\n",
       "    <tr>\n",
       "      <th>1</th>\n",
       "      <td>164</td>\n",
       "      <td>0</td>\n",
       "      <td>0.564829</td>\n",
       "    </tr>\n",
       "    <tr>\n",
       "      <th>2</th>\n",
       "      <td>251</td>\n",
       "      <td>0</td>\n",
       "      <td>0.002926</td>\n",
       "    </tr>\n",
       "    <tr>\n",
       "      <th>3</th>\n",
       "      <td>158</td>\n",
       "      <td>0</td>\n",
       "      <td>0.053554</td>\n",
       "    </tr>\n",
       "    <tr>\n",
       "      <th>4</th>\n",
       "      <td>219</td>\n",
       "      <td>0</td>\n",
       "      <td>0.217022</td>\n",
       "    </tr>\n",
       "  </tbody>\n",
       "</table>\n",
       "</div>"
      ],
      "text/plain": [
       "   Patient_ID  eventdeath  Event_Death_Prob\n",
       "0          78           0          0.009999\n",
       "1         164           0          0.564829\n",
       "2         251           0          0.002926\n",
       "3         158           0          0.053554\n",
       "4         219           0          0.217022"
      ]
     },
     "execution_count": 68,
     "metadata": {},
     "output_type": "execute_result"
    }
   ],
   "source": [
    "y_pred_final['Patient_ID'] = y_pred_final.index\n",
    "y_pred_final.reset_index(drop=True, inplace=True)\n",
    "y_pred_final = y_pred_final[['Patient_ID', 'eventdeath', 'Event_Death_Prob']]\n",
    "y_pred_final.head()"
   ]
  },
  {
   "cell_type": "code",
   "execution_count": 69,
   "id": "2cc1ef4d",
   "metadata": {},
   "outputs": [
    {
     "data": {
      "text/html": [
       "<div>\n",
       "<style scoped>\n",
       "    .dataframe tbody tr th:only-of-type {\n",
       "        vertical-align: middle;\n",
       "    }\n",
       "\n",
       "    .dataframe tbody tr th {\n",
       "        vertical-align: top;\n",
       "    }\n",
       "\n",
       "    .dataframe thead th {\n",
       "        text-align: right;\n",
       "    }\n",
       "</style>\n",
       "<table border=\"1\" class=\"dataframe\">\n",
       "  <thead>\n",
       "    <tr style=\"text-align: right;\">\n",
       "      <th></th>\n",
       "      <th>Patient_ID</th>\n",
       "      <th>eventdeath</th>\n",
       "      <th>Event_Death_Prob</th>\n",
       "      <th>final_predicted</th>\n",
       "    </tr>\n",
       "  </thead>\n",
       "  <tbody>\n",
       "    <tr>\n",
       "      <th>0</th>\n",
       "      <td>78</td>\n",
       "      <td>0</td>\n",
       "      <td>0.009999</td>\n",
       "      <td>0</td>\n",
       "    </tr>\n",
       "    <tr>\n",
       "      <th>1</th>\n",
       "      <td>164</td>\n",
       "      <td>0</td>\n",
       "      <td>0.564829</td>\n",
       "      <td>1</td>\n",
       "    </tr>\n",
       "    <tr>\n",
       "      <th>2</th>\n",
       "      <td>251</td>\n",
       "      <td>0</td>\n",
       "      <td>0.002926</td>\n",
       "      <td>0</td>\n",
       "    </tr>\n",
       "    <tr>\n",
       "      <th>3</th>\n",
       "      <td>158</td>\n",
       "      <td>0</td>\n",
       "      <td>0.053554</td>\n",
       "      <td>0</td>\n",
       "    </tr>\n",
       "    <tr>\n",
       "      <th>4</th>\n",
       "      <td>219</td>\n",
       "      <td>0</td>\n",
       "      <td>0.217022</td>\n",
       "      <td>0</td>\n",
       "    </tr>\n",
       "  </tbody>\n",
       "</table>\n",
       "</div>"
      ],
      "text/plain": [
       "   Patient_ID  eventdeath  Event_Death_Prob  final_predicted\n",
       "0          78           0          0.009999                0\n",
       "1         164           0          0.564829                1\n",
       "2         251           0          0.002926                0\n",
       "3         158           0          0.053554                0\n",
       "4         219           0          0.217022                0"
      ]
     },
     "execution_count": 69,
     "metadata": {},
     "output_type": "execute_result"
    }
   ],
   "source": [
    "y_pred_final['final_predicted'] = y_pred_final.Event_Death_Prob.map(lambda x: 1 if x > 0.3 else 0)\n",
    "y_pred_final.head()"
   ]
  },
  {
   "cell_type": "code",
   "execution_count": 70,
   "id": "6fb7f7f4",
   "metadata": {},
   "outputs": [
    {
     "data": {
      "text/plain": [
       "0.8909090909090909"
      ]
     },
     "execution_count": 70,
     "metadata": {},
     "output_type": "execute_result"
    }
   ],
   "source": [
    "# Let's check the overall accuracy.\n",
    "metrics.accuracy_score(y_pred_final.eventdeath, y_pred_final.final_predicted)"
   ]
  },
  {
   "cell_type": "code",
   "execution_count": 71,
   "id": "287e90a5",
   "metadata": {},
   "outputs": [
    {
     "data": {
      "text/plain": [
       "array([[33,  6],\n",
       "       [ 0, 16]])"
      ]
     },
     "execution_count": 71,
     "metadata": {},
     "output_type": "execute_result"
    }
   ],
   "source": [
    "confusion2 = metrics.confusion_matrix(y_pred_final.eventdeath, y_pred_final.final_predicted )\n",
    "confusion2"
   ]
  },
  {
   "cell_type": "code",
   "execution_count": 72,
   "id": "d4b47c59",
   "metadata": {},
   "outputs": [],
   "source": [
    "TP = confusion2[1,1] # true positive \n",
    "TN = confusion2[0,0] # true negatives\n",
    "FP = confusion2[0,1] # false positives\n",
    "FN = confusion2[1,0] # false negatives"
   ]
  },
  {
   "cell_type": "code",
   "execution_count": 73,
   "id": "8e6b47d6",
   "metadata": {},
   "outputs": [
    {
     "data": {
      "text/plain": [
       "1.0"
      ]
     },
     "execution_count": 73,
     "metadata": {},
     "output_type": "execute_result"
    }
   ],
   "source": [
    "# Let's see the sensitivity of our logistic regression model\n",
    "TP / float(TP+FN)"
   ]
  },
  {
   "cell_type": "code",
   "execution_count": 74,
   "id": "6b50753a",
   "metadata": {},
   "outputs": [
    {
     "data": {
      "text/plain": [
       "0.8461538461538461"
      ]
     },
     "execution_count": 74,
     "metadata": {},
     "output_type": "execute_result"
    }
   ],
   "source": [
    "# Let us calculate specificity\n",
    "TN / float(TN+FP)"
   ]
  }
 ],
 "metadata": {
  "kernelspec": {
   "display_name": "Python 3 (ipykernel)",
   "language": "python",
   "name": "python3"
  },
  "language_info": {
   "codemirror_mode": {
    "name": "ipython",
    "version": 3
   },
   "file_extension": ".py",
   "mimetype": "text/x-python",
   "name": "python",
   "nbconvert_exporter": "python",
   "pygments_lexer": "ipython3",
   "version": "3.9.12"
  }
 },
 "nbformat": 4,
 "nbformat_minor": 5
}
